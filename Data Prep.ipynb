{
 "cells": [
  {
   "cell_type": "markdown",
   "metadata": {},
   "source": [
    "# Importing Libraries and Data"
   ]
  },
  {
   "cell_type": "code",
   "execution_count": 11,
   "metadata": {},
   "outputs": [],
   "source": [
    "import pandas as pd\n",
    "import matplotlib.pyplot as plt\n",
    "import seaborn as sns\n",
    "from collections import defaultdict\n",
    "import numpy as np\n",
    "import matplotlib.pyplot as plt"
   ]
  },
  {
   "cell_type": "code",
   "execution_count": 12,
   "metadata": {},
   "outputs": [],
   "source": [
    "spray = pd.read_csv('./west_nile/input/spray.csv')\n",
    "weather = pd.read_csv('./west_nile/input/weather.csv')\n",
    "train = pd.read_csv('./west_nile/input/train.csv')\n",
    "yearly_weather = pd.read_csv('./west_nile/input/yearly_weather.csv')\n",
    "test = pd.read_csv('./west_nile/input/test.csv')"
   ]
  },
  {
   "cell_type": "markdown",
   "metadata": {},
   "source": [
    "# Preparing the datasets for feature engineering\n",
    "### Turning the dates into datetime format"
   ]
  },
  {
   "cell_type": "code",
   "execution_count": 13,
   "metadata": {},
   "outputs": [],
   "source": [
    "weather['Date'] = pd.to_datetime(weather['Date'])\n",
    "train['Date'] = pd.to_datetime(train['Date'])\n",
    "spray['Date'] = pd.to_datetime(spray['Date'])\n",
    "test['Date'] = pd.to_datetime(test['Date'])"
   ]
  },
  {
   "cell_type": "markdown",
   "metadata": {},
   "source": [
    "### Updating the Mosquito Numbers to Fix the Pipiens/Restuans Problem\n",
    "#### Finding the proportions of pipiens/restuans that carry wnv and that are caught"
   ]
  },
  {
   "cell_type": "code",
   "execution_count": 14,
   "metadata": {
    "scrolled": true
   },
   "outputs": [
    {
     "data": {
      "text/plain": [
       "CULEX PIPIENS/RESTUANS    262\n",
       "CULEX PIPIENS             240\n",
       "CULEX RESTUANS             49\n",
       "Name: Species, dtype: int64"
      ]
     },
     "execution_count": 14,
     "metadata": {},
     "output_type": "execute_result"
    }
   ],
   "source": [
    "# Getting a sense of the wnv proportions\n",
    "train[train['WnvPresent']==1]['Species'].value_counts()"
   ]
  },
  {
   "cell_type": "code",
   "execution_count": 15,
   "metadata": {},
   "outputs": [
    {
     "data": {
      "text/plain": [
       "(0.1695501730103806, 0.8304498269896194)"
      ]
     },
     "execution_count": 15,
     "metadata": {},
     "output_type": "execute_result"
    }
   ],
   "source": [
    "# Determining the proportions of wnv in the two species\n",
    "restuans_wnv = train[(train['WnvPresent']==1) & (train['Species']=='CULEX RESTUANS')]['WnvPresent'].sum()\n",
    "pipiens_wnv = train[(train['WnvPresent']==1) & (train['Species']=='CULEX PIPIENS')]['WnvPresent'].sum()\n",
    "restuans_wnv_perc = restuans_wnv/(pipiens_wnv + restuans_wnv)\n",
    "pipiens_wnv_perc = 1 - restuans_wnv_perc\n",
    "restuans_wnv_perc, pipiens_wnv_perc"
   ]
  },
  {
   "cell_type": "code",
   "execution_count": 16,
   "metadata": {},
   "outputs": [
    {
     "data": {
      "text/plain": [
       "CULEX PIPIENS/RESTUANS    4752\n",
       "CULEX RESTUANS            2740\n",
       "CULEX PIPIENS             2699\n",
       "CULEX TERRITANS            222\n",
       "CULEX SALINARIUS            86\n",
       "CULEX TARSALIS               6\n",
       "CULEX ERRATICUS              1\n",
       "Name: Species, dtype: int64"
      ]
     },
     "execution_count": 16,
     "metadata": {},
     "output_type": "execute_result"
    }
   ],
   "source": [
    "# Getting a sense of the species proportions\n",
    "train['Species'].value_counts()"
   ]
  },
  {
   "cell_type": "code",
   "execution_count": 17,
   "metadata": {},
   "outputs": [
    {
     "data": {
      "text/plain": [
       "(0.34405744324689436, 0.6559425567531056)"
      ]
     },
     "execution_count": 17,
     "metadata": {},
     "output_type": "execute_result"
    }
   ],
   "source": [
    "# Determining the proportions of mosquitos in the two species\n",
    "restuans_mosq = train[train['Species']=='CULEX RESTUANS']['NumMosquitos'].sum()\n",
    "pipiens_mosq = train[train['Species']=='CULEX PIPIENS']['NumMosquitos'].sum()\n",
    "restuans_mosq_perc = restuans_mosq/(pipiens_mosq + restuans_mosq)\n",
    "pipiens_mosq_perc = 1 - restuans_mosq_perc\n",
    "restuans_mosq_perc, pipiens_mosq_perc"
   ]
  },
  {
   "cell_type": "markdown",
   "metadata": {},
   "source": [
    "#### Creating dummy columns for the vectors (wnv presence and musquito count)"
   ]
  },
  {
   "cell_type": "code",
   "execution_count": 18,
   "metadata": {},
   "outputs": [],
   "source": [
    "# Creating columns for the vectors\n",
    "train = pd.get_dummies(train, columns=['Species'])"
   ]
  },
  {
   "cell_type": "code",
   "execution_count": 19,
   "metadata": {},
   "outputs": [],
   "source": [
    "# Creating columns for the number each vector\n",
    "train['Num_Pipiens'] = train['Species_CULEX PIPIENS'] * train['NumMosquitos']\n",
    "train['Num_Pipiens/Restuans'] = train['Species_CULEX PIPIENS/RESTUANS'] * train['NumMosquitos']\n",
    "train['Num_Restuans'] = train['Species_CULEX RESTUANS'] * train['NumMosquitos']"
   ]
  },
  {
   "cell_type": "code",
   "execution_count": 20,
   "metadata": {},
   "outputs": [],
   "source": [
    "# Creating columns for the wnv prevelance of each vector\n",
    "train['WNV_Pipiens'] = train['Species_CULEX PIPIENS'] * train['WnvPresent']\n",
    "train['WNV_Pipiens/Restuans'] = train['Species_CULEX PIPIENS/RESTUANS'] * train['WnvPresent']\n",
    "train['WNV_Restuans'] = train['Species_CULEX RESTUANS'] * train['WnvPresent']"
   ]
  },
  {
   "cell_type": "code",
   "execution_count": 21,
   "metadata": {},
   "outputs": [],
   "source": [
    "# Splitting up the restuans/pipiens to the restuans and pipiens columns\n",
    "train['Num_Restuans'] = train['Num_Pipiens/Restuans'] * restuans_mosq_perc + train['Num_Restuans']\n",
    "train['Num_Pipiens'] = train['Num_Pipiens/Restuans'] * pipiens_mosq_perc + train['Num_Pipiens']\n",
    "train['WNV_Restuans'] = train['WNV_Pipiens/Restuans'] * restuans_wnv_perc + train['WNV_Restuans']\n",
    "train['WNV_Pipiens'] = train['WNV_Pipiens/Restuans'] * pipiens_wnv_perc + train['WNV_Pipiens']"
   ]
  },
  {
   "cell_type": "code",
   "execution_count": 22,
   "metadata": {},
   "outputs": [],
   "source": [
    "# Dropping the columns we don't need anymore\n",
    "columns_to_drop = ['WNV_Pipiens/Restuans', 'Num_Pipiens/Restuans', 'Species_CULEX PIPIENS', 'Species_CULEX RESTUANS',\n",
    "                  'Species_CULEX PIPIENS/RESTUANS']\n",
    "train.drop(columns_to_drop, axis=1, inplace=True)"
   ]
  },
  {
   "cell_type": "markdown",
   "metadata": {},
   "source": [
    "### Combining the weather data to have one entry per day\n",
    "#### Dealing with the non-numeric data"
   ]
  },
  {
   "cell_type": "code",
   "execution_count": 23,
   "metadata": {},
   "outputs": [
    {
     "name": "stdout",
     "output_type": "stream",
     "text": [
      "CodeSum [' ', 'BR', 'BR HZ', 'HZ', 'RA', 'RA BR', 'TSRA RA BR', 'RA VCTS', 'TSRA RA', 'RA HZ', 'TSRA RA BR HZ', 'TSRA BR HZ', 'RA BR HZ VCTS', 'TSRA RA HZ', 'TSRA BR HZ VCTS', 'TSRA', 'TSRA BR HZ FU', 'TSRA RA HZ FU', 'BR HZ FU', 'TSRA RA VCTS', 'HZ VCTS', 'TSRA HZ', 'VCTS', 'RA BR VCTS', 'TSRA RA BR VCTS', 'TS TSRA RA BR HZ VCTS', 'DZ BR', 'TS TSRA RA BR HZ', 'TS TSRA BR HZ', 'RA BR HZ', 'TSRA RA DZ BR HZ', 'TS TSRA RA BR', 'TS RA BR', 'TS TSRA RA', 'TS TSRA RA BR VCTS', 'TS TSRA BR', 'TS RA', 'RA BCFG BR', 'TSRA BR', 'RA DZ FG+ BCFG BR', 'RA FG+ MIFG BR', 'RA DZ', 'RA DZ BR', 'TS TSRA RA HZ', 'TSRA RA FG+ FG BR', 'TSRA DZ FG+ FG BR HZ', 'TS BR', 'RA BR SQ', 'TS TSRA', 'TSRA RA BR HZ VCTS', 'BR VCTS', 'TS', 'FG+ BR HZ', 'RA SN', 'TSRA RA DZ BR', 'DZ BR HZ', 'RA BR FU', 'TS BR HZ', 'DZ', 'FG+ BR', 'FG+ FG BR', 'FG+ MIFG BR', 'TSRA RA FG BR', 'TSRA FG+ BR', 'RA DZ BR HZ', 'RA DZ SN', 'FG+ FG BR HZ', 'TS TSRA RA FG BR', 'BR HZ VCFG', 'TS RA FG+ FG BR', 'TSRA RA FG+ BR', 'RA DZ FG+ FG BR', 'TS TSRA RA VCTS', 'FU', 'TS TSRA VCFG', 'TS TSRA HZ', 'TS TSRA GR RA BR', 'RA FG BR', 'HZ FU', 'RA BR HZ FU', 'MIFG BCFG BR', 'FG+ BCFG BR', 'TSRA RA FG+ FG BR HZ', 'FG+', 'TSRA BR SQ', 'TSRA DZ BR HZ', 'RA BR HZ VCFG', 'RA FG+ BR', 'FG BR HZ', 'TS HZ', 'TS TSRA RA FG BR HZ', 'RA DZ FG+ BR', 'RA DZ FG+ BR HZ', 'TSRA FG+ BR HZ', 'RA BR VCFG', 'TS RA BR HZ', 'BCFG BR', 'RA SN BR']\n",
      "Water1 ['M']\n",
      "Depart ['M']\n",
      "Sunrise ['-']\n",
      "Sunset ['-']\n",
      "Depth ['M']\n",
      "SnowFall ['M', '  T']\n",
      "PrecipTotal ['  T', 'M']\n",
      "Tavg ['M']\n",
      "Heat ['M']\n",
      "Cool ['M']\n",
      "StnPressure ['M']\n",
      "SeaLevel ['M']\n",
      "AvgSpeed ['M']\n",
      "WetBulb ['M']\n"
     ]
    }
   ],
   "source": [
    "# Determining string values and which features have them\n",
    "string_dict = defaultdict(list)\n",
    "for row in weather.index:\n",
    "    for column in weather.columns:\n",
    "        value = weather.loc[row, column]\n",
    "        if type(value) == str:\n",
    "            try:\n",
    "                float(value)\n",
    "            except:\n",
    "                if value not in string_dict[column]:\n",
    "                    string_dict[column].append(value)\n",
    "for key, value in string_dict.items():\n",
    "    print(key, value)"
   ]
  },
  {
   "cell_type": "code",
   "execution_count": 24,
   "metadata": {},
   "outputs": [
    {
     "data": {
      "text/plain": [
       "defaultdict(int,\n",
       "            {'Water1': 2944,\n",
       "             'Depart': 1472,\n",
       "             'Sunrise': 1472,\n",
       "             'Sunset': 1472,\n",
       "             'Depth': 1472,\n",
       "             'SnowFall': 1472,\n",
       "             'Tavg': 11,\n",
       "             'Heat': 11,\n",
       "             'Cool': 11,\n",
       "             'StnPressure': 4,\n",
       "             'SeaLevel': 9,\n",
       "             'AvgSpeed': 3,\n",
       "             'PrecipTotal': 2,\n",
       "             'WetBulb': 4})"
      ]
     },
     "execution_count": 24,
     "metadata": {},
     "output_type": "execute_result"
    }
   ],
   "source": [
    "# Finding columns with missing data\n",
    "missing_dict = defaultdict(int)\n",
    "for row in weather.index:\n",
    "     for column in weather.columns:\n",
    "        if weather.loc[row, column] in ['M', '-']:\n",
    "            missing_dict[column] += 1\n",
    "missing_dict"
   ]
  },
  {
   "cell_type": "code",
   "execution_count": 25,
   "metadata": {},
   "outputs": [],
   "source": [
    "# Fill in the other station's value if the value is missing\n",
    "for column in missing_dict.keys():\n",
    "    for row, date in weather[weather[column].isin(['M', '-'])]['Date'].items():\n",
    "        if weather.loc[row, 'Station'] == 1:\n",
    "            new_station = 2\n",
    "        else:\n",
    "            new_station = 1\n",
    "        new_row = weather[(weather['Date']==date)&(weather['Station']==new_station)].index[0]\n",
    "        weather.loc[row, column] = weather.loc[new_row, column]"
   ]
  },
  {
   "cell_type": "code",
   "execution_count": 26,
   "metadata": {},
   "outputs": [
    {
     "data": {
      "text/plain": [
       "defaultdict(int, {'Water1': 2944, 'StnPressure': 2})"
      ]
     },
     "execution_count": 26,
     "metadata": {},
     "output_type": "execute_result"
    }
   ],
   "source": [
    "# Determine where there might still be missing values\n",
    "missing_dict = defaultdict(int)\n",
    "for row in weather.index:\n",
    "     for column in weather.columns:\n",
    "        if weather.loc[row, column] in ['M', '-']:\n",
    "            missing_dict[column] += 1\n",
    "missing_dict"
   ]
  },
  {
   "cell_type": "code",
   "execution_count": 27,
   "metadata": {},
   "outputs": [
    {
     "data": {
      "text/html": [
       "<div>\n",
       "<style scoped>\n",
       "    .dataframe tbody tr th:only-of-type {\n",
       "        vertical-align: middle;\n",
       "    }\n",
       "\n",
       "    .dataframe tbody tr th {\n",
       "        vertical-align: top;\n",
       "    }\n",
       "\n",
       "    .dataframe thead th {\n",
       "        text-align: right;\n",
       "    }\n",
       "</style>\n",
       "<table border=\"1\" class=\"dataframe\">\n",
       "  <thead>\n",
       "    <tr style=\"text-align: right;\">\n",
       "      <th></th>\n",
       "      <th>Station</th>\n",
       "      <th>Date</th>\n",
       "      <th>Tmax</th>\n",
       "      <th>Tmin</th>\n",
       "      <th>Tavg</th>\n",
       "      <th>Depart</th>\n",
       "      <th>DewPoint</th>\n",
       "      <th>WetBulb</th>\n",
       "      <th>Heat</th>\n",
       "      <th>Cool</th>\n",
       "      <th>...</th>\n",
       "      <th>CodeSum</th>\n",
       "      <th>Depth</th>\n",
       "      <th>Water1</th>\n",
       "      <th>SnowFall</th>\n",
       "      <th>PrecipTotal</th>\n",
       "      <th>StnPressure</th>\n",
       "      <th>SeaLevel</th>\n",
       "      <th>ResultSpeed</th>\n",
       "      <th>ResultDir</th>\n",
       "      <th>AvgSpeed</th>\n",
       "    </tr>\n",
       "  </thead>\n",
       "  <tbody>\n",
       "    <tr>\n",
       "      <th>2410</th>\n",
       "      <td>1</td>\n",
       "      <td>2013-08-10</td>\n",
       "      <td>81</td>\n",
       "      <td>64</td>\n",
       "      <td>73</td>\n",
       "      <td>0</td>\n",
       "      <td>57</td>\n",
       "      <td>63</td>\n",
       "      <td>0</td>\n",
       "      <td>8</td>\n",
       "      <td>...</td>\n",
       "      <td></td>\n",
       "      <td>0</td>\n",
       "      <td>M</td>\n",
       "      <td>0.0</td>\n",
       "      <td>0.00</td>\n",
       "      <td>M</td>\n",
       "      <td>30.08</td>\n",
       "      <td>5.3</td>\n",
       "      <td>5</td>\n",
       "      <td>6.5</td>\n",
       "    </tr>\n",
       "    <tr>\n",
       "      <th>2411</th>\n",
       "      <td>2</td>\n",
       "      <td>2013-08-10</td>\n",
       "      <td>81</td>\n",
       "      <td>68</td>\n",
       "      <td>75</td>\n",
       "      <td>0</td>\n",
       "      <td>55</td>\n",
       "      <td>63</td>\n",
       "      <td>0</td>\n",
       "      <td>10</td>\n",
       "      <td>...</td>\n",
       "      <td></td>\n",
       "      <td>0</td>\n",
       "      <td>M</td>\n",
       "      <td>0.0</td>\n",
       "      <td>0.00</td>\n",
       "      <td>M</td>\n",
       "      <td>30.07</td>\n",
       "      <td>6.0</td>\n",
       "      <td>6</td>\n",
       "      <td>7.4</td>\n",
       "    </tr>\n",
       "  </tbody>\n",
       "</table>\n",
       "<p>2 rows × 22 columns</p>\n",
       "</div>"
      ],
      "text/plain": [
       "      Station       Date  Tmax  Tmin Tavg Depart  DewPoint WetBulb Heat Cool  \\\n",
       "2410        1 2013-08-10    81    64   73      0        57      63    0    8   \n",
       "2411        2 2013-08-10    81    68   75      0        55      63    0   10   \n",
       "\n",
       "        ...    CodeSum Depth Water1 SnowFall PrecipTotal StnPressure SeaLevel  \\\n",
       "2410    ...                0      M      0.0        0.00           M    30.08   \n",
       "2411    ...                0      M      0.0        0.00           M    30.07   \n",
       "\n",
       "     ResultSpeed ResultDir  AvgSpeed  \n",
       "2410         5.3         5       6.5  \n",
       "2411         6.0         6       7.4  \n",
       "\n",
       "[2 rows x 22 columns]"
      ]
     },
     "execution_count": 27,
     "metadata": {},
     "output_type": "execute_result"
    }
   ],
   "source": [
    "# Looking at the missing pressure data to determine what to do\n",
    "weather[weather['StnPressure']=='M']"
   ]
  },
  {
   "cell_type": "code",
   "execution_count": 28,
   "metadata": {},
   "outputs": [],
   "source": [
    "# Filling in the missing pressure with the average pressure for that month\n",
    "aug_2013 = pd.DatetimeIndex(start='2013-08-01', end='2013-08-31', freq='d')\n",
    "mean_pressure = pd.to_numeric(weather[(weather['Date'].isin(aug_2013))&(weather['Date']!='2013-8-10')]\n",
    "                              ['StnPressure']).mean()\n",
    "weather['StnPressure'] = weather['StnPressure'].map(lambda x: round(mean_pressure, 2) if x == 'M' else x)"
   ]
  },
  {
   "cell_type": "code",
   "execution_count": 29,
   "metadata": {},
   "outputs": [],
   "source": [
    "# Dropping the column where all of the data is missing\n",
    "weather.drop('Water1', axis=1, inplace=True)"
   ]
  },
  {
   "cell_type": "code",
   "execution_count": 30,
   "metadata": {},
   "outputs": [],
   "source": [
    "# Filling in 0s for 'trace' values\n",
    "for column in ['SnowFall', 'PrecipTotal']:\n",
    "    weather[column] = weather[column].map(lambda x: 0.0 if x == '  T' else x)"
   ]
  },
  {
   "cell_type": "code",
   "execution_count": 31,
   "metadata": {},
   "outputs": [],
   "source": [
    "# Converting all of the object columns (except 'CodeSum') to floats\n",
    "for column, dtype in weather.dtypes.items():\n",
    "    if (dtype == 'object') & (column != 'CodeSum'):\n",
    "        weather[column] = pd.to_numeric(weather[column])"
   ]
  },
  {
   "cell_type": "markdown",
   "metadata": {},
   "source": [
    "#### Grouping by day"
   ]
  },
  {
   "cell_type": "code",
   "execution_count": 32,
   "metadata": {
    "scrolled": true
   },
   "outputs": [
    {
     "data": {
      "text/html": [
       "<div>\n",
       "<style scoped>\n",
       "    .dataframe tbody tr th:only-of-type {\n",
       "        vertical-align: middle;\n",
       "    }\n",
       "\n",
       "    .dataframe tbody tr th {\n",
       "        vertical-align: top;\n",
       "    }\n",
       "\n",
       "    .dataframe thead th {\n",
       "        text-align: right;\n",
       "    }\n",
       "</style>\n",
       "<table border=\"1\" class=\"dataframe\">\n",
       "  <thead>\n",
       "    <tr style=\"text-align: right;\">\n",
       "      <th></th>\n",
       "      <th>Station</th>\n",
       "      <th>Tmax</th>\n",
       "      <th>Tmin</th>\n",
       "      <th>Tavg</th>\n",
       "      <th>Depart</th>\n",
       "      <th>DewPoint</th>\n",
       "      <th>WetBulb</th>\n",
       "      <th>Heat</th>\n",
       "      <th>Cool</th>\n",
       "      <th>Sunrise</th>\n",
       "      <th>Sunset</th>\n",
       "      <th>Depth</th>\n",
       "      <th>SnowFall</th>\n",
       "      <th>PrecipTotal</th>\n",
       "      <th>StnPressure</th>\n",
       "      <th>SeaLevel</th>\n",
       "      <th>ResultSpeed</th>\n",
       "      <th>ResultDir</th>\n",
       "      <th>AvgSpeed</th>\n",
       "    </tr>\n",
       "    <tr>\n",
       "      <th>Date</th>\n",
       "      <th></th>\n",
       "      <th></th>\n",
       "      <th></th>\n",
       "      <th></th>\n",
       "      <th></th>\n",
       "      <th></th>\n",
       "      <th></th>\n",
       "      <th></th>\n",
       "      <th></th>\n",
       "      <th></th>\n",
       "      <th></th>\n",
       "      <th></th>\n",
       "      <th></th>\n",
       "      <th></th>\n",
       "      <th></th>\n",
       "      <th></th>\n",
       "      <th></th>\n",
       "      <th></th>\n",
       "      <th></th>\n",
       "    </tr>\n",
       "  </thead>\n",
       "  <tbody>\n",
       "    <tr>\n",
       "      <th>2007-05-01</th>\n",
       "      <td>1.5</td>\n",
       "      <td>83.5</td>\n",
       "      <td>51.0</td>\n",
       "      <td>67.5</td>\n",
       "      <td>14.0</td>\n",
       "      <td>51.0</td>\n",
       "      <td>56.5</td>\n",
       "      <td>0.0</td>\n",
       "      <td>2.5</td>\n",
       "      <td>448.0</td>\n",
       "      <td>1849.0</td>\n",
       "      <td>0.0</td>\n",
       "      <td>0.0</td>\n",
       "      <td>0.0</td>\n",
       "      <td>29.140</td>\n",
       "      <td>29.820</td>\n",
       "      <td>2.20</td>\n",
       "      <td>26.0</td>\n",
       "      <td>9.40</td>\n",
       "    </tr>\n",
       "    <tr>\n",
       "      <th>2007-05-02</th>\n",
       "      <td>1.5</td>\n",
       "      <td>59.5</td>\n",
       "      <td>42.5</td>\n",
       "      <td>51.5</td>\n",
       "      <td>-3.0</td>\n",
       "      <td>42.0</td>\n",
       "      <td>47.0</td>\n",
       "      <td>13.5</td>\n",
       "      <td>0.0</td>\n",
       "      <td>447.0</td>\n",
       "      <td>1850.0</td>\n",
       "      <td>0.0</td>\n",
       "      <td>0.0</td>\n",
       "      <td>0.0</td>\n",
       "      <td>29.410</td>\n",
       "      <td>30.085</td>\n",
       "      <td>13.15</td>\n",
       "      <td>3.0</td>\n",
       "      <td>13.40</td>\n",
       "    </tr>\n",
       "    <tr>\n",
       "      <th>2007-05-03</th>\n",
       "      <td>1.5</td>\n",
       "      <td>66.5</td>\n",
       "      <td>47.0</td>\n",
       "      <td>57.0</td>\n",
       "      <td>2.0</td>\n",
       "      <td>40.0</td>\n",
       "      <td>49.0</td>\n",
       "      <td>8.0</td>\n",
       "      <td>0.0</td>\n",
       "      <td>446.0</td>\n",
       "      <td>1851.0</td>\n",
       "      <td>0.0</td>\n",
       "      <td>0.0</td>\n",
       "      <td>0.0</td>\n",
       "      <td>29.425</td>\n",
       "      <td>30.120</td>\n",
       "      <td>12.30</td>\n",
       "      <td>6.5</td>\n",
       "      <td>12.55</td>\n",
       "    </tr>\n",
       "    <tr>\n",
       "      <th>2007-05-04</th>\n",
       "      <td>1.5</td>\n",
       "      <td>72.0</td>\n",
       "      <td>50.0</td>\n",
       "      <td>58.0</td>\n",
       "      <td>4.0</td>\n",
       "      <td>41.5</td>\n",
       "      <td>50.0</td>\n",
       "      <td>7.0</td>\n",
       "      <td>0.0</td>\n",
       "      <td>444.0</td>\n",
       "      <td>1852.0</td>\n",
       "      <td>0.0</td>\n",
       "      <td>0.0</td>\n",
       "      <td>0.0</td>\n",
       "      <td>29.335</td>\n",
       "      <td>30.045</td>\n",
       "      <td>10.25</td>\n",
       "      <td>7.5</td>\n",
       "      <td>10.60</td>\n",
       "    </tr>\n",
       "    <tr>\n",
       "      <th>2007-05-05</th>\n",
       "      <td>1.5</td>\n",
       "      <td>66.0</td>\n",
       "      <td>53.5</td>\n",
       "      <td>60.0</td>\n",
       "      <td>5.0</td>\n",
       "      <td>38.5</td>\n",
       "      <td>49.5</td>\n",
       "      <td>5.0</td>\n",
       "      <td>0.0</td>\n",
       "      <td>443.0</td>\n",
       "      <td>1853.0</td>\n",
       "      <td>0.0</td>\n",
       "      <td>0.0</td>\n",
       "      <td>0.0</td>\n",
       "      <td>29.430</td>\n",
       "      <td>30.095</td>\n",
       "      <td>11.45</td>\n",
       "      <td>7.0</td>\n",
       "      <td>11.75</td>\n",
       "    </tr>\n",
       "  </tbody>\n",
       "</table>\n",
       "</div>"
      ],
      "text/plain": [
       "            Station  Tmax  Tmin  Tavg  Depart  DewPoint  WetBulb  Heat  Cool  \\\n",
       "Date                                                                           \n",
       "2007-05-01      1.5  83.5  51.0  67.5    14.0      51.0     56.5   0.0   2.5   \n",
       "2007-05-02      1.5  59.5  42.5  51.5    -3.0      42.0     47.0  13.5   0.0   \n",
       "2007-05-03      1.5  66.5  47.0  57.0     2.0      40.0     49.0   8.0   0.0   \n",
       "2007-05-04      1.5  72.0  50.0  58.0     4.0      41.5     50.0   7.0   0.0   \n",
       "2007-05-05      1.5  66.0  53.5  60.0     5.0      38.5     49.5   5.0   0.0   \n",
       "\n",
       "            Sunrise  Sunset  Depth  SnowFall  PrecipTotal  StnPressure  \\\n",
       "Date                                                                     \n",
       "2007-05-01    448.0  1849.0    0.0       0.0          0.0       29.140   \n",
       "2007-05-02    447.0  1850.0    0.0       0.0          0.0       29.410   \n",
       "2007-05-03    446.0  1851.0    0.0       0.0          0.0       29.425   \n",
       "2007-05-04    444.0  1852.0    0.0       0.0          0.0       29.335   \n",
       "2007-05-05    443.0  1853.0    0.0       0.0          0.0       29.430   \n",
       "\n",
       "            SeaLevel  ResultSpeed  ResultDir  AvgSpeed  \n",
       "Date                                                    \n",
       "2007-05-01    29.820         2.20       26.0      9.40  \n",
       "2007-05-02    30.085        13.15        3.0     13.40  \n",
       "2007-05-03    30.120        12.30        6.5     12.55  \n",
       "2007-05-04    30.045        10.25        7.5     10.60  \n",
       "2007-05-05    30.095        11.45        7.0     11.75  "
      ]
     },
     "execution_count": 32,
     "metadata": {},
     "output_type": "execute_result"
    }
   ],
   "source": [
    "# Grouping all of the weather data by day\n",
    "weather.groupby(pd.Grouper(key='Date', freq='1d')).mean().head()"
   ]
  },
  {
   "cell_type": "code",
   "execution_count": 33,
   "metadata": {},
   "outputs": [],
   "source": [
    "# Redefining weather and dropping the extra days created by the grouper with all NaN values\n",
    "weather = weather.groupby(pd.Grouper(key='Date', freq='1d')).mean().dropna()"
   ]
  },
  {
   "cell_type": "markdown",
   "metadata": {},
   "source": [
    "### Fixing the Duplicate Traps Per Day Problem"
   ]
  },
  {
   "cell_type": "code",
   "execution_count": 38,
   "metadata": {},
   "outputs": [],
   "source": [
    "# Adding the mosquito data for each trap on each day\n",
    "# Checked to make sure that adding long, lat, AA, & block did not create multiples of a trap on a day for train\n",
    "train['Trap'] = train['Trap'].map(lambda x: x[:4])\n",
    "train = train.groupby(['Date', 'Trap', 'Longitude', 'Latitude', 'AddressAccuracy', 'Block'], as_index=False).sum()\n",
    "test['Trap'] = test['Trap'].map(lambda x: x[:4])\n",
    "test = test.groupby(['Date', 'Trap', 'Longitude', 'Latitude', 'AddressAccuracy', 'Block'], as_index=False).sum()"
   ]
  },
  {
   "cell_type": "markdown",
   "metadata": {},
   "source": [
    "### Cleaning the yearly weather data"
   ]
  },
  {
   "cell_type": "code",
   "execution_count": 41,
   "metadata": {},
   "outputs": [],
   "source": [
    "yearly_weather = yearly_weather.groupby('DATE').mean()"
   ]
  },
  {
   "cell_type": "markdown",
   "metadata": {},
   "source": [
    "## Exporting the data frames"
   ]
  },
  {
   "cell_type": "code",
   "execution_count": 42,
   "metadata": {},
   "outputs": [],
   "source": [
    "# These are commented out so that we don't accidentally run them.\n",
    "# weather.to_csv('./weather_data')\n",
    "# train.to_csv('./mosquito_data')\n",
    "# yearly_weather.to_csv('./yearly_weather_data')\n",
    "# test.to_csv('./test_data')"
   ]
  }
 ],
 "metadata": {
  "kernelspec": {
   "display_name": "Python [conda env:anaconda3]",
   "language": "python",
   "name": "conda-env-anaconda3-py"
  },
  "language_info": {
   "codemirror_mode": {
    "name": "ipython",
    "version": 3
   },
   "file_extension": ".py",
   "mimetype": "text/x-python",
   "name": "python",
   "nbconvert_exporter": "python",
   "pygments_lexer": "ipython3",
   "version": "3.6.5"
  }
 },
 "nbformat": 4,
 "nbformat_minor": 2
}
