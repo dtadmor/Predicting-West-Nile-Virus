{
 "cells": [
  {
   "cell_type": "markdown",
   "metadata": {},
   "source": [
    "# Importing Libraries and Data"
   ]
  },
  {
   "cell_type": "code",
   "execution_count": 106,
   "metadata": {},
   "outputs": [],
   "source": [
    "import pandas as pd\n",
    "from sklearn.model_selection import train_test_split, cross_val_score\n",
    "from sklearn.ensemble import RandomForestRegressor, RandomForestClassifier, AdaBoostClassifier\n",
    "from sklearn.linear_model import LogisticRegression\n",
    "from sklearn.svm import SVR, SVC\n",
    "from sklearn.metrics import confusion_matrix\n",
    "from imblearn.over_sampling import RandomOverSampler\n",
    "from sklearn.metrics import roc_curve, auc, roc_auc_score\n",
    "import matplotlib.pyplot as plt\n",
    "import numpy as np"
   ]
  },
  {
   "cell_type": "code",
   "execution_count": 38,
   "metadata": {},
   "outputs": [],
   "source": [
    "# Reading in the data\n",
    "mosquito_train = pd.read_csv('./assets/mosquito_train', index_col=0)\n",
    "mosquito_test = pd.read_csv('./assets/mosquito_test', index_col=0)\n",
    "weather_train = pd.read_csv('./assets/weather_train', index_col=0)\n",
    "weather_test = pd.read_csv('./assets/weather_test', index_col=0)"
   ]
  },
  {
   "cell_type": "code",
   "execution_count": 39,
   "metadata": {},
   "outputs": [],
   "source": [
    "# Converting the date time data back into date time objects\n",
    "mosquito_train['TEST DATE'] = pd.to_datetime(mosquito_train['TEST DATE'].map(lambda x: x[:10]))\n",
    "mosquito_test['TEST DATE'] = pd.to_datetime(mosquito_test['TEST DATE'].map(lambda x: x[:10]))\n",
    "weather_train.index = pd.DatetimeIndex(weather_train.index)\n",
    "weather_test.index = pd.DatetimeIndex(weather_test.index)"
   ]
  },
  {
   "cell_type": "markdown",
   "metadata": {},
   "source": [
    "# Merging the Data"
   ]
  },
  {
   "cell_type": "code",
   "execution_count": 40,
   "metadata": {},
   "outputs": [],
   "source": [
    "weather_train.reset_index(inplace=True)\n",
    "weather_test.reset_index(inplace=True)\n",
    "train = pd.merge(mosquito_train, weather_train, left_on='TEST DATE', right_on='DATE', how='left')\n",
    "train.set_index('TEST DATE', inplace=True)\n",
    "test = pd.merge(mosquito_test, weather_test, left_on='TEST DATE', right_on='DATE', how='left')\n",
    "test.set_index('TEST DATE', inplace=True)"
   ]
  },
  {
   "cell_type": "markdown",
   "metadata": {},
   "source": [
    "# Modeling\n",
    "### Getting the data frames ready"
   ]
  },
  {
   "cell_type": "code",
   "execution_count": 41,
   "metadata": {},
   "outputs": [],
   "source": [
    "# Setting the result to be found west nile virus or did not find it\n",
    "train['RESULT'] = train['RESULT'].map(lambda x: 1 if x >= 1 else 0)\n",
    "test['RESULT'] = test['RESULT'].map(lambda x: 1 if x >= 1 else 0)"
   ]
  },
  {
   "cell_type": "code",
   "execution_count": 42,
   "metadata": {},
   "outputs": [],
   "source": [
    "# Splitting up the data with model features\n",
    "model_features = ['DW_1', 'DW_2', 'DW_3', 'DW_4', 'DW_5', 'PRCP_1', 'PRCP_2', 'PRCP_3', 'PRCP_4', 'PRCP_5',\n",
    "                  'LONGITUDE', 'LATITUDE', 'PRCP LAST YEAR', 'VI_1', 'VD_1']\n",
    "X_train, X_test, y_train, y_test = train_test_split(train[model_features], train['RESULT'], stratify=train['RESULT'])"
   ]
  },
  {
   "cell_type": "code",
   "execution_count": 43,
   "metadata": {},
   "outputs": [],
   "source": [
    "# Oversampling the data\n",
    "ros = RandomOverSampler(random_state=42)\n",
    "X_resampled, y_resampled = ros.fit_sample(X_train, y_train)"
   ]
  },
  {
   "cell_type": "markdown",
   "metadata": {},
   "source": [
    "### Creating and validating out the model"
   ]
  },
  {
   "cell_type": "code",
   "execution_count": 56,
   "metadata": {},
   "outputs": [
    {
     "data": {
      "text/plain": [
       "array([0.79466271, 0.7698295 , 0.76945886, 0.76780415, 0.78709199])"
      ]
     },
     "execution_count": 56,
     "metadata": {},
     "output_type": "execute_result"
    }
   ],
   "source": [
    "# Seeing the results of cross validation\n",
    "model = RandomForestClassifier(max_depth=5)\n",
    "cross_val_score(model, X_resampled, y_resampled, cv=5)"
   ]
  },
  {
   "cell_type": "code",
   "execution_count": 57,
   "metadata": {},
   "outputs": [
    {
     "data": {
      "text/html": [
       "<div>\n",
       "<style scoped>\n",
       "    .dataframe tbody tr th:only-of-type {\n",
       "        vertical-align: middle;\n",
       "    }\n",
       "\n",
       "    .dataframe tbody tr th {\n",
       "        vertical-align: top;\n",
       "    }\n",
       "\n",
       "    .dataframe thead th {\n",
       "        text-align: right;\n",
       "    }\n",
       "</style>\n",
       "<table border=\"1\" class=\"dataframe\">\n",
       "  <thead>\n",
       "    <tr style=\"text-align: right;\">\n",
       "      <th></th>\n",
       "      <th>DW_1</th>\n",
       "      <th>DW_2</th>\n",
       "      <th>DW_3</th>\n",
       "      <th>DW_4</th>\n",
       "      <th>DW_5</th>\n",
       "      <th>PRCP_1</th>\n",
       "      <th>PRCP_2</th>\n",
       "      <th>PRCP_3</th>\n",
       "      <th>PRCP_4</th>\n",
       "      <th>PRCP_5</th>\n",
       "      <th>LONGITUDE</th>\n",
       "      <th>LATITUDE</th>\n",
       "      <th>PRCP LAST YEAR</th>\n",
       "      <th>VI_1</th>\n",
       "      <th>VD_1</th>\n",
       "    </tr>\n",
       "  </thead>\n",
       "  <tbody>\n",
       "    <tr>\n",
       "      <th>Importance</th>\n",
       "      <td>0.079359</td>\n",
       "      <td>0.060259</td>\n",
       "      <td>0.06255</td>\n",
       "      <td>0.028892</td>\n",
       "      <td>0.039699</td>\n",
       "      <td>0.022984</td>\n",
       "      <td>0.01676</td>\n",
       "      <td>0.046862</td>\n",
       "      <td>0.017491</td>\n",
       "      <td>0.024615</td>\n",
       "      <td>0.093421</td>\n",
       "      <td>0.016222</td>\n",
       "      <td>0.03001</td>\n",
       "      <td>0.124803</td>\n",
       "      <td>0.336073</td>\n",
       "    </tr>\n",
       "  </tbody>\n",
       "</table>\n",
       "</div>"
      ],
      "text/plain": [
       "                DW_1      DW_2     DW_3      DW_4      DW_5    PRCP_1  \\\n",
       "Importance  0.079359  0.060259  0.06255  0.028892  0.039699  0.022984   \n",
       "\n",
       "             PRCP_2    PRCP_3    PRCP_4    PRCP_5  LONGITUDE  LATITUDE  \\\n",
       "Importance  0.01676  0.046862  0.017491  0.024615   0.093421  0.016222   \n",
       "\n",
       "            PRCP LAST YEAR      VI_1      VD_1  \n",
       "Importance         0.03001  0.124803  0.336073  "
      ]
     },
     "execution_count": 57,
     "metadata": {},
     "output_type": "execute_result"
    }
   ],
   "source": [
    "# Looking at the feature importances\n",
    "model.fit(X_resampled, y_resampled)\n",
    "pd.DataFrame([model.feature_importances_], columns=X_train.columns, index=['Importance'])"
   ]
  },
  {
   "cell_type": "code",
   "execution_count": 58,
   "metadata": {},
   "outputs": [
    {
     "data": {
      "text/html": [
       "<div>\n",
       "<style scoped>\n",
       "    .dataframe tbody tr th:only-of-type {\n",
       "        vertical-align: middle;\n",
       "    }\n",
       "\n",
       "    .dataframe tbody tr th {\n",
       "        vertical-align: top;\n",
       "    }\n",
       "\n",
       "    .dataframe thead th {\n",
       "        text-align: right;\n",
       "    }\n",
       "</style>\n",
       "<table border=\"1\" class=\"dataframe\">\n",
       "  <thead>\n",
       "    <tr style=\"text-align: right;\">\n",
       "      <th></th>\n",
       "      <th>Predicted Negative</th>\n",
       "      <th>Predicted Positive</th>\n",
       "    </tr>\n",
       "  </thead>\n",
       "  <tbody>\n",
       "    <tr>\n",
       "      <th>True Negatve</th>\n",
       "      <td>1767</td>\n",
       "      <td>481</td>\n",
       "    </tr>\n",
       "    <tr>\n",
       "      <th>True Positive</th>\n",
       "      <td>58</td>\n",
       "      <td>178</td>\n",
       "    </tr>\n",
       "  </tbody>\n",
       "</table>\n",
       "</div>"
      ],
      "text/plain": [
       "               Predicted Negative  Predicted Positive\n",
       "True Negatve                 1767                 481\n",
       "True Positive                  58                 178"
      ]
     },
     "execution_count": 58,
     "metadata": {},
     "output_type": "execute_result"
    }
   ],
   "source": [
    "# Looking at the confusion matrix\n",
    "y_hat = model.predict(X_test)\n",
    "pd.DataFrame(confusion_matrix(y_test, y_hat), columns=['Predicted Negative', 'Predicted Positive'],\n",
    "             index=['True Negatve', 'True Positive'])"
   ]
  },
  {
   "cell_type": "markdown",
   "metadata": {},
   "source": [
    "### Testing the model on the test data"
   ]
  },
  {
   "cell_type": "code",
   "execution_count": 116,
   "metadata": {},
   "outputs": [
    {
     "data": {
      "text/html": [
       "<div>\n",
       "<style scoped>\n",
       "    .dataframe tbody tr th:only-of-type {\n",
       "        vertical-align: middle;\n",
       "    }\n",
       "\n",
       "    .dataframe tbody tr th {\n",
       "        vertical-align: top;\n",
       "    }\n",
       "\n",
       "    .dataframe thead th {\n",
       "        text-align: right;\n",
       "    }\n",
       "</style>\n",
       "<table border=\"1\" class=\"dataframe\">\n",
       "  <thead>\n",
       "    <tr style=\"text-align: right;\">\n",
       "      <th></th>\n",
       "      <th>True Positive</th>\n",
       "      <th>True Negative</th>\n",
       "    </tr>\n",
       "  </thead>\n",
       "  <tbody>\n",
       "    <tr>\n",
       "      <th>Predicted Positive</th>\n",
       "      <td>334</td>\n",
       "      <td>826</td>\n",
       "    </tr>\n",
       "    <tr>\n",
       "      <th>Predicted Negative</th>\n",
       "      <td>100</td>\n",
       "      <td>1430</td>\n",
       "    </tr>\n",
       "  </tbody>\n",
       "</table>\n",
       "</div>"
      ],
      "text/plain": [
       "                    True Positive  True Negative\n",
       "Predicted Positive            334            826\n",
       "Predicted Negative            100           1430"
      ]
     },
     "execution_count": 116,
     "metadata": {},
     "output_type": "execute_result"
    }
   ],
   "source": [
    "# Overall confusion matrix\n",
    "y_hat = model.predict(test[model_features])\n",
    "tn, fp, fn, tp = confusion_matrix(test['RESULT'], y_hat).ravel()\n",
    "pd.DataFrame([[tp, fp], [fn, tn]], columns=['True Positive', 'True Negative'],\n",
    "             index=['Predicted Positive', 'Predicted Negative'])"
   ]
  },
  {
   "cell_type": "code",
   "execution_count": 118,
   "metadata": {},
   "outputs": [
    {
     "data": {
      "text/html": [
       "<div>\n",
       "<style scoped>\n",
       "    .dataframe tbody tr th:only-of-type {\n",
       "        vertical-align: middle;\n",
       "    }\n",
       "\n",
       "    .dataframe tbody tr th {\n",
       "        vertical-align: top;\n",
       "    }\n",
       "\n",
       "    .dataframe thead th {\n",
       "        text-align: right;\n",
       "    }\n",
       "</style>\n",
       "<table border=\"1\" class=\"dataframe\">\n",
       "  <thead>\n",
       "    <tr style=\"text-align: right;\">\n",
       "      <th></th>\n",
       "      <th>True Positive</th>\n",
       "      <th>True Negative</th>\n",
       "    </tr>\n",
       "  </thead>\n",
       "  <tbody>\n",
       "    <tr>\n",
       "      <th>Predicted Positive</th>\n",
       "      <td>194</td>\n",
       "      <td>323</td>\n",
       "    </tr>\n",
       "    <tr>\n",
       "      <th>Predicted Negative</th>\n",
       "      <td>23</td>\n",
       "      <td>433</td>\n",
       "    </tr>\n",
       "  </tbody>\n",
       "</table>\n",
       "</div>"
      ],
      "text/plain": [
       "                    True Positive  True Negative\n",
       "Predicted Positive            194            323\n",
       "Predicted Negative             23            433"
      ]
     },
     "execution_count": 118,
     "metadata": {},
     "output_type": "execute_result"
    }
   ],
   "source": [
    "# 2016 confusion matrix\n",
    "y_hat_2016 = model.predict(test.loc['2016', model_features])\n",
    "tn, fp, fn, tp = confusion_matrix(test.loc['2016', 'RESULT'], y_hat_2016).ravel()\n",
    "pd.DataFrame([[tp, fp], [fn, tn]], columns=['True Positive', 'True Negative'],\n",
    "             index=['Predicted Positive', 'Predicted Negative'])"
   ]
  },
  {
   "cell_type": "code",
   "execution_count": 119,
   "metadata": {},
   "outputs": [
    {
     "data": {
      "text/html": [
       "<div>\n",
       "<style scoped>\n",
       "    .dataframe tbody tr th:only-of-type {\n",
       "        vertical-align: middle;\n",
       "    }\n",
       "\n",
       "    .dataframe tbody tr th {\n",
       "        vertical-align: top;\n",
       "    }\n",
       "\n",
       "    .dataframe thead th {\n",
       "        text-align: right;\n",
       "    }\n",
       "</style>\n",
       "<table border=\"1\" class=\"dataframe\">\n",
       "  <thead>\n",
       "    <tr style=\"text-align: right;\">\n",
       "      <th></th>\n",
       "      <th>True Positive</th>\n",
       "      <th>True Negative</th>\n",
       "    </tr>\n",
       "  </thead>\n",
       "  <tbody>\n",
       "    <tr>\n",
       "      <th>Predicted Positive</th>\n",
       "      <td>59</td>\n",
       "      <td>299</td>\n",
       "    </tr>\n",
       "    <tr>\n",
       "      <th>Predicted Negative</th>\n",
       "      <td>34</td>\n",
       "      <td>432</td>\n",
       "    </tr>\n",
       "  </tbody>\n",
       "</table>\n",
       "</div>"
      ],
      "text/plain": [
       "                    True Positive  True Negative\n",
       "Predicted Positive             59            299\n",
       "Predicted Negative             34            432"
      ]
     },
     "execution_count": 119,
     "metadata": {},
     "output_type": "execute_result"
    }
   ],
   "source": [
    "# 2017 confusion matrix\n",
    "y_hat_2017 = model.predict(test.loc['2017', model_features])\n",
    "tn, fp, fn, tp = confusion_matrix(test.loc['2017', 'RESULT'], y_hat_2017).ravel()\n",
    "pd.DataFrame([[tp, fp], [fn, tn]], columns=['True Positive', 'True Negative'],\n",
    "             index=['Predicted Positive', 'Predicted Negative'])"
   ]
  },
  {
   "cell_type": "code",
   "execution_count": 120,
   "metadata": {
    "scrolled": true
   },
   "outputs": [
    {
     "data": {
      "text/html": [
       "<div>\n",
       "<style scoped>\n",
       "    .dataframe tbody tr th:only-of-type {\n",
       "        vertical-align: middle;\n",
       "    }\n",
       "\n",
       "    .dataframe tbody tr th {\n",
       "        vertical-align: top;\n",
       "    }\n",
       "\n",
       "    .dataframe thead th {\n",
       "        text-align: right;\n",
       "    }\n",
       "</style>\n",
       "<table border=\"1\" class=\"dataframe\">\n",
       "  <thead>\n",
       "    <tr style=\"text-align: right;\">\n",
       "      <th></th>\n",
       "      <th>True Positive</th>\n",
       "      <th>True Negative</th>\n",
       "    </tr>\n",
       "  </thead>\n",
       "  <tbody>\n",
       "    <tr>\n",
       "      <th>Predicted Positive</th>\n",
       "      <td>81</td>\n",
       "      <td>204</td>\n",
       "    </tr>\n",
       "    <tr>\n",
       "      <th>Predicted Negative</th>\n",
       "      <td>43</td>\n",
       "      <td>565</td>\n",
       "    </tr>\n",
       "  </tbody>\n",
       "</table>\n",
       "</div>"
      ],
      "text/plain": [
       "                    True Positive  True Negative\n",
       "Predicted Positive             81            204\n",
       "Predicted Negative             43            565"
      ]
     },
     "execution_count": 120,
     "metadata": {},
     "output_type": "execute_result"
    }
   ],
   "source": [
    "# 2018 confusion matrix\n",
    "y_hat_2018 = model.predict(test.loc['2018', model_features])\n",
    "tn, fp, fn, tp = confusion_matrix(test.loc['2018', 'RESULT'], y_hat_2018).ravel()\n",
    "pd.DataFrame([[tp, fp], [fn, tn]], columns=['True Positive', 'True Negative'],\n",
    "             index=['Predicted Positive', 'Predicted Negative'])"
   ]
  },
  {
   "cell_type": "markdown",
   "metadata": {},
   "source": [
    "### Graphing our models"
   ]
  },
  {
   "cell_type": "code",
   "execution_count": 102,
   "metadata": {},
   "outputs": [],
   "source": [
    "# Setting up variables for an ROC curve for the validation data\n",
    "y_probability = pd.DataFrame(model.predict_proba(X_test))[1]\n",
    "false_positive_rate, true_positive_rate, _ = roc_curve(y_test, y_probability)\n",
    "roc_auc = auc(false_positive_rate, true_positive_rate)\n",
    "tn, fp, fn, tp = confusion_matrix(y_test, y_hat).ravel()\n",
    "fpr = fp / (fp + tn)\n",
    "tpr = tp / (fn + tp)"
   ]
  },
  {
   "cell_type": "code",
   "execution_count": 96,
   "metadata": {},
   "outputs": [
    {
     "data": {
      "text/html": [
       "<div>\n",
       "<style scoped>\n",
       "    .dataframe tbody tr th:only-of-type {\n",
       "        vertical-align: middle;\n",
       "    }\n",
       "\n",
       "    .dataframe tbody tr th {\n",
       "        vertical-align: top;\n",
       "    }\n",
       "\n",
       "    .dataframe thead th {\n",
       "        text-align: right;\n",
       "    }\n",
       "</style>\n",
       "<table border=\"1\" class=\"dataframe\">\n",
       "  <thead>\n",
       "    <tr style=\"text-align: right;\">\n",
       "      <th></th>\n",
       "      <th>Predicted Negative</th>\n",
       "      <th>Predicted Positive</th>\n",
       "    </tr>\n",
       "  </thead>\n",
       "  <tbody>\n",
       "    <tr>\n",
       "      <th>True Negatve</th>\n",
       "      <td>1767</td>\n",
       "      <td>481</td>\n",
       "    </tr>\n",
       "    <tr>\n",
       "      <th>True Positive</th>\n",
       "      <td>58</td>\n",
       "      <td>178</td>\n",
       "    </tr>\n",
       "  </tbody>\n",
       "</table>\n",
       "</div>"
      ],
      "text/plain": [
       "               Predicted Negative  Predicted Positive\n",
       "True Negatve                 1767                 481\n",
       "True Positive                  58                 178"
      ]
     },
     "execution_count": 96,
     "metadata": {},
     "output_type": "execute_result"
    }
   ],
   "source": [
    "y_hat = model.predict(X_test)\n",
    "pd.DataFrame(confusion_matrix(y_test, y_hat), columns=['Predicted Negative', 'Predicted Positive'],\n",
    "             index=['True Negatve', 'True Positive'])"
   ]
  },
  {
   "cell_type": "code",
   "execution_count": 113,
   "metadata": {},
   "outputs": [
    {
     "data": {
      "image/png": "[encoded data removed]",
      "text/plain": [
       "<Figure size 432x288 with 1 Axes>"
      ]
     },
     "metadata": {},
     "output_type": "display_data"
    }
   ],
   "source": [
    "# Graphing the ROC curve for the validation data\n",
    "plt.figure()\n",
    "plt.plot(false_positive_rate, true_positive_rate, color='darkorange', lw=2,\n",
    "         label='ROC Curve (area = {})'.format(round(roc_auc, 2)))\n",
    "plt.plot([0,1],[0,1], color='navy', lw=2, linestyle='--')\n",
    "# plt.scatter(fpr, tpr, color='red')\n",
    "plt.plot([fpr]*100, np.linspace(0, 1.05, 100), color='red', lw=1, linestyle='--', label='Our Model')\n",
    "plt.plot(np.linspace(0, 1, 100), [tpr]*100, color='red', lw=1, linestyle='--')\n",
    "plt.xlim([0,1])\n",
    "plt.ylim([0,1.05])\n",
    "plt.title('ROC Curve')\n",
    "plt.legend(loc='lower right')\n",
    "plt.xlabel('False Positive Rate')\n",
    "plt.ylabel('True Positive Rate')\n",
    "plt.show()"
   ]
  },
  {
   "cell_type": "code",
   "execution_count": 151,
   "metadata": {},
   "outputs": [
    {
     "data": {
      "image/png": "[encoded data removed]",
      "text/plain": [
       "<Figure size 432x288 with 1 Axes>"
      ]
     },
     "metadata": {},
     "output_type": "display_data"
    }
   ],
   "source": [
    "# Graphing the importance features\n",
    "important_features = pd.DataFrame([model.feature_importances_], columns=X_train.columns, index=['Importance'])\n",
    "important_features = important_features.T.sort_values('Importance', ascending=False)\n",
    "plt.barh(important_features.index, important_features['Importance'])\n",
    "plt.title('Feature Importance');"
   ]
  },
  {
   "cell_type": "markdown",
   "metadata": {},
   "source": [
    "# Exporting the Model Predictions\n",
    "### Creating the model prediction and true locations"
   ]
  },
  {
   "cell_type": "code",
   "execution_count": 76,
   "metadata": {},
   "outputs": [],
   "source": [
    "# 2018 locations\n",
    "predictions_2018 = test['2018'][y_hat_2018==1][['LATITUDE', 'LONGITUDE']]\n",
    "real_2018 = test[test['RESULT']==1]['2018'][['LATITUDE', 'LONGITUDE']]"
   ]
  },
  {
   "cell_type": "code",
   "execution_count": 77,
   "metadata": {},
   "outputs": [],
   "source": [
    "# 2017 locations\n",
    "predictions_2017 = test['2017'][y_hat_2017==1][['LATITUDE', 'LONGITUDE']]\n",
    "real_2017 = test[test['RESULT']==1]['2017'][['LATITUDE', 'LONGITUDE']]"
   ]
  },
  {
   "cell_type": "code",
   "execution_count": 78,
   "metadata": {},
   "outputs": [],
   "source": [
    "# 2016 locations\n",
    "predictions_2016 = test['2016'][y_hat_2016==1][['LATITUDE', 'LONGITUDE']]\n",
    "real_2016 = test[test['RESULT']==1]['2016'][['LATITUDE', 'LONGITUDE']]"
   ]
  },
  {
   "cell_type": "markdown",
   "metadata": {},
   "source": [
    "### Saving the locations to CSVs"
   ]
  },
  {
   "cell_type": "code",
   "execution_count": 79,
   "metadata": {},
   "outputs": [],
   "source": [
    "# Commenting out to avoid accidental saves\n",
    "# predictions_2018.to_csv('./assets/predictions_18')\n",
    "# real_2018.to_csv('./assets/real_18')\n",
    "# predictions_2017.to_csv('./assets/predictions_17')\n",
    "# real_2017.to_csv('./assets/real_17')\n",
    "# predictions_2016.to_csv('./assets/predictions_16')\n",
    "# real_2016.to_csv('./assets/real_16')"
   ]
  }
 ],
 "metadata": {
  "kernelspec": {
   "display_name": "Python 3",
   "language": "python",
   "name": "python3"
  },
  "language_info": {
   "codemirror_mode": {
    "name": "ipython",
    "version": 3
   },
   "file_extension": ".py",
   "mimetype": "text/x-python",
   "name": "python",
   "nbconvert_exporter": "python",
   "pygments_lexer": "ipython3",
   "version": "3.6.5"
  }
 },
 "nbformat": 4,
 "nbformat_minor": 2
}
