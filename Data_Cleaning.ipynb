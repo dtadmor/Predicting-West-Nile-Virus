{
 "cells": [
  {
   "cell_type": "markdown",
   "metadata": {},
   "source": [
    "# Importing Libraries and Data"
   ]
  },
  {
   "cell_type": "code",
   "execution_count": 1,
   "metadata": {},
   "outputs": [],
   "source": [
    "import pandas as pd\n",
    "import matplotlib.pyplot as plt\n",
    "import seaborn as sns\n",
    "from collections import defaultdict\n",
    "import numpy as np\n",
    "import matplotlib.pyplot as plt"
   ]
  },
  {
   "cell_type": "code",
   "execution_count": 35,
   "metadata": {},
   "outputs": [],
   "source": [
    "mosquito = pd.read_csv('./west_nile/input/Chicago_WNV.csv')\n",
    "weather_0607 = pd.read_csv('./west_nile/input/1473571.csv')\n",
    "weather_0809 = pd.read_csv('./west_nile/input/1473573.csv')\n",
    "weather_1011 = pd.read_csv('./west_nile/input/1473576.csv')\n",
    "weather_1213 = pd.read_csv('./west_nile/input/1473577.csv')\n",
    "weather_1415 = pd.read_csv('./west_nile/input/1473578.csv')\n",
    "weather_1617 = pd.read_csv('./west_nile/input/1473579.csv')\n",
    "weather_18 = pd.read_csv('./west_nile/input/1473580.csv')"
   ]
  },
  {
   "cell_type": "markdown",
   "metadata": {},
   "source": [
    "#  Mosquito Data\n",
    "### Taking a look at the mosquito data"
   ]
  },
  {
   "cell_type": "code",
   "execution_count": 3,
   "metadata": {},
   "outputs": [
    {
     "data": {
      "text/plain": [
       "(27054, 13)"
      ]
     },
     "execution_count": 3,
     "metadata": {},
     "output_type": "execute_result"
    }
   ],
   "source": [
    "mosquito.shape"
   ]
  },
  {
   "cell_type": "code",
   "execution_count": 4,
   "metadata": {},
   "outputs": [
    {
     "data": {
      "text/html": [
       "<div>\n",
       "<style scoped>\n",
       "    .dataframe tbody tr th:only-of-type {\n",
       "        vertical-align: middle;\n",
       "    }\n",
       "\n",
       "    .dataframe tbody tr th {\n",
       "        vertical-align: top;\n",
       "    }\n",
       "\n",
       "    .dataframe thead th {\n",
       "        text-align: right;\n",
       "    }\n",
       "</style>\n",
       "<table border=\"1\" class=\"dataframe\">\n",
       "  <thead>\n",
       "    <tr style=\"text-align: right;\">\n",
       "      <th></th>\n",
       "      <th>SEASON YEAR</th>\n",
       "      <th>WEEK</th>\n",
       "      <th>TEST ID</th>\n",
       "      <th>NUMBER OF MOSQUITOES</th>\n",
       "      <th>LATITUDE</th>\n",
       "      <th>LONGITUDE</th>\n",
       "    </tr>\n",
       "  </thead>\n",
       "  <tbody>\n",
       "    <tr>\n",
       "      <th>count</th>\n",
       "      <td>27054.000000</td>\n",
       "      <td>27054.000000</td>\n",
       "      <td>27054.000000</td>\n",
       "      <td>27054.000000</td>\n",
       "      <td>22970.000000</td>\n",
       "      <td>22970.000000</td>\n",
       "    </tr>\n",
       "    <tr>\n",
       "      <th>mean</th>\n",
       "      <td>2011.922414</td>\n",
       "      <td>31.056738</td>\n",
       "      <td>33926.895284</td>\n",
       "      <td>12.510645</td>\n",
       "      <td>41.835401</td>\n",
       "      <td>-87.687765</td>\n",
       "    </tr>\n",
       "    <tr>\n",
       "      <th>std</th>\n",
       "      <td>3.418862</td>\n",
       "      <td>4.480369</td>\n",
       "      <td>7927.693220</td>\n",
       "      <td>15.471264</td>\n",
       "      <td>0.113346</td>\n",
       "      <td>0.076972</td>\n",
       "    </tr>\n",
       "    <tr>\n",
       "      <th>min</th>\n",
       "      <td>2007.000000</td>\n",
       "      <td>20.000000</td>\n",
       "      <td>20000.000000</td>\n",
       "      <td>1.000000</td>\n",
       "      <td>41.644720</td>\n",
       "      <td>-87.854473</td>\n",
       "    </tr>\n",
       "    <tr>\n",
       "      <th>25%</th>\n",
       "      <td>2009.000000</td>\n",
       "      <td>28.000000</td>\n",
       "      <td>27103.250000</td>\n",
       "      <td>2.000000</td>\n",
       "      <td>41.731447</td>\n",
       "      <td>-87.745420</td>\n",
       "    </tr>\n",
       "    <tr>\n",
       "      <th>50%</th>\n",
       "      <td>2012.000000</td>\n",
       "      <td>31.000000</td>\n",
       "      <td>33907.500000</td>\n",
       "      <td>5.000000</td>\n",
       "      <td>41.825398</td>\n",
       "      <td>-87.689417</td>\n",
       "    </tr>\n",
       "    <tr>\n",
       "      <th>75%</th>\n",
       "      <td>2015.000000</td>\n",
       "      <td>35.000000</td>\n",
       "      <td>40806.750000</td>\n",
       "      <td>17.000000</td>\n",
       "      <td>41.945961</td>\n",
       "      <td>-87.632955</td>\n",
       "    </tr>\n",
       "    <tr>\n",
       "      <th>max</th>\n",
       "      <td>2018.000000</td>\n",
       "      <td>40.000000</td>\n",
       "      <td>47592.000000</td>\n",
       "      <td>77.000000</td>\n",
       "      <td>42.017801</td>\n",
       "      <td>-87.531060</td>\n",
       "    </tr>\n",
       "  </tbody>\n",
       "</table>\n",
       "</div>"
      ],
      "text/plain": [
       "        SEASON YEAR          WEEK       TEST ID  NUMBER OF MOSQUITOES  \\\n",
       "count  27054.000000  27054.000000  27054.000000          27054.000000   \n",
       "mean    2011.922414     31.056738  33926.895284             12.510645   \n",
       "std        3.418862      4.480369   7927.693220             15.471264   \n",
       "min     2007.000000     20.000000  20000.000000              1.000000   \n",
       "25%     2009.000000     28.000000  27103.250000              2.000000   \n",
       "50%     2012.000000     31.000000  33907.500000              5.000000   \n",
       "75%     2015.000000     35.000000  40806.750000             17.000000   \n",
       "max     2018.000000     40.000000  47592.000000             77.000000   \n",
       "\n",
       "           LATITUDE     LONGITUDE  \n",
       "count  22970.000000  22970.000000  \n",
       "mean      41.835401    -87.687765  \n",
       "std        0.113346      0.076972  \n",
       "min       41.644720    -87.854473  \n",
       "25%       41.731447    -87.745420  \n",
       "50%       41.825398    -87.689417  \n",
       "75%       41.945961    -87.632955  \n",
       "max       42.017801    -87.531060  "
      ]
     },
     "execution_count": 4,
     "metadata": {},
     "output_type": "execute_result"
    }
   ],
   "source": [
    "mosquito.describe()"
   ]
  },
  {
   "cell_type": "code",
   "execution_count": 6,
   "metadata": {},
   "outputs": [
    {
     "data": {
      "text/plain": [
       "SEASON YEAR                0\n",
       "WEEK                       0\n",
       "TEST ID                    0\n",
       "BLOCK                      0\n",
       "TRAP                       0\n",
       "TRAP_TYPE                  0\n",
       "TEST DATE                  0\n",
       "NUMBER OF MOSQUITOES       0\n",
       "RESULT                     0\n",
       "SPECIES                    0\n",
       "LATITUDE                4084\n",
       "LONGITUDE               4084\n",
       "LOCATION                4084\n",
       "dtype: int64"
      ]
     },
     "execution_count": 6,
     "metadata": {},
     "output_type": "execute_result"
    }
   ],
   "source": [
    "mosquito.isna().sum()"
   ]
  },
  {
   "cell_type": "code",
   "execution_count": 7,
   "metadata": {
    "scrolled": true
   },
   "outputs": [
    {
     "data": {
      "text/html": [
       "<div>\n",
       "<style scoped>\n",
       "    .dataframe tbody tr th:only-of-type {\n",
       "        vertical-align: middle;\n",
       "    }\n",
       "\n",
       "    .dataframe tbody tr th {\n",
       "        vertical-align: top;\n",
       "    }\n",
       "\n",
       "    .dataframe thead th {\n",
       "        text-align: right;\n",
       "    }\n",
       "</style>\n",
       "<table border=\"1\" class=\"dataframe\">\n",
       "  <thead>\n",
       "    <tr style=\"text-align: right;\">\n",
       "      <th></th>\n",
       "      <th>SEASON YEAR</th>\n",
       "      <th>WEEK</th>\n",
       "      <th>TEST ID</th>\n",
       "      <th>BLOCK</th>\n",
       "      <th>TRAP</th>\n",
       "      <th>TRAP_TYPE</th>\n",
       "      <th>TEST DATE</th>\n",
       "      <th>NUMBER OF MOSQUITOES</th>\n",
       "      <th>RESULT</th>\n",
       "      <th>SPECIES</th>\n",
       "      <th>LATITUDE</th>\n",
       "      <th>LONGITUDE</th>\n",
       "      <th>LOCATION</th>\n",
       "    </tr>\n",
       "  </thead>\n",
       "  <tbody>\n",
       "    <tr>\n",
       "      <th>0</th>\n",
       "      <td>2011</td>\n",
       "      <td>29</td>\n",
       "      <td>31550</td>\n",
       "      <td>100XX W OHARE AIRPORT</td>\n",
       "      <td>T916</td>\n",
       "      <td>GRAVID</td>\n",
       "      <td>07/25/2011 12:07:00 AM</td>\n",
       "      <td>3</td>\n",
       "      <td>negative</td>\n",
       "      <td>CULEX PIPIENS</td>\n",
       "      <td>NaN</td>\n",
       "      <td>NaN</td>\n",
       "      <td>NaN</td>\n",
       "    </tr>\n",
       "    <tr>\n",
       "      <th>1</th>\n",
       "      <td>2016</td>\n",
       "      <td>25</td>\n",
       "      <td>42613</td>\n",
       "      <td>58XX N PULASKI RD</td>\n",
       "      <td>T027</td>\n",
       "      <td>GRAVID</td>\n",
       "      <td>06/22/2016 12:06:00 AM</td>\n",
       "      <td>6</td>\n",
       "      <td>negative</td>\n",
       "      <td>CULEX RESTUANS</td>\n",
       "      <td>41.986320</td>\n",
       "      <td>-87.728378</td>\n",
       "      <td>(41.986319851449004, -87.72837845617912)</td>\n",
       "    </tr>\n",
       "    <tr>\n",
       "      <th>2</th>\n",
       "      <td>2007</td>\n",
       "      <td>27</td>\n",
       "      <td>20583</td>\n",
       "      <td>15XX W WEBSTER AVE</td>\n",
       "      <td>T045</td>\n",
       "      <td>GRAVID</td>\n",
       "      <td>07/11/2007 03:07:41 AM</td>\n",
       "      <td>4</td>\n",
       "      <td>negative</td>\n",
       "      <td>CULEX PIPIENS/RESTUANS</td>\n",
       "      <td>41.921705</td>\n",
       "      <td>-87.666963</td>\n",
       "      <td>(41.92170457422864, -87.66696323469388)</td>\n",
       "    </tr>\n",
       "    <tr>\n",
       "      <th>3</th>\n",
       "      <td>2009</td>\n",
       "      <td>38</td>\n",
       "      <td>28275</td>\n",
       "      <td>5XX S CENTRAL AVE</td>\n",
       "      <td>T031</td>\n",
       "      <td>GRAVID</td>\n",
       "      <td>09/25/2009 12:09:00 AM</td>\n",
       "      <td>4</td>\n",
       "      <td>negative</td>\n",
       "      <td>CULEX PIPIENS</td>\n",
       "      <td>41.872873</td>\n",
       "      <td>-87.764737</td>\n",
       "      <td>(41.87287286249572, -87.7647365320396)</td>\n",
       "    </tr>\n",
       "    <tr>\n",
       "      <th>4</th>\n",
       "      <td>2011</td>\n",
       "      <td>34</td>\n",
       "      <td>32254</td>\n",
       "      <td>58XX N PULASKI RD</td>\n",
       "      <td>T027</td>\n",
       "      <td>GRAVID</td>\n",
       "      <td>08/26/2011 12:08:00 AM</td>\n",
       "      <td>2</td>\n",
       "      <td>negative</td>\n",
       "      <td>CULEX RESTUANS</td>\n",
       "      <td>41.986320</td>\n",
       "      <td>-87.728378</td>\n",
       "      <td>(41.986319851449004, -87.72837845617912)</td>\n",
       "    </tr>\n",
       "  </tbody>\n",
       "</table>\n",
       "</div>"
      ],
      "text/plain": [
       "   SEASON YEAR  WEEK  TEST ID                  BLOCK  TRAP TRAP_TYPE  \\\n",
       "0         2011    29    31550  100XX W OHARE AIRPORT  T916    GRAVID   \n",
       "1         2016    25    42613      58XX N PULASKI RD  T027    GRAVID   \n",
       "2         2007    27    20583     15XX W WEBSTER AVE  T045    GRAVID   \n",
       "3         2009    38    28275      5XX S CENTRAL AVE  T031    GRAVID   \n",
       "4         2011    34    32254      58XX N PULASKI RD  T027    GRAVID   \n",
       "\n",
       "                TEST DATE  NUMBER OF MOSQUITOES    RESULT  \\\n",
       "0  07/25/2011 12:07:00 AM                     3  negative   \n",
       "1  06/22/2016 12:06:00 AM                     6  negative   \n",
       "2  07/11/2007 03:07:41 AM                     4  negative   \n",
       "3  09/25/2009 12:09:00 AM                     4  negative   \n",
       "4  08/26/2011 12:08:00 AM                     2  negative   \n",
       "\n",
       "                  SPECIES   LATITUDE  LONGITUDE  \\\n",
       "0           CULEX PIPIENS        NaN        NaN   \n",
       "1          CULEX RESTUANS  41.986320 -87.728378   \n",
       "2  CULEX PIPIENS/RESTUANS  41.921705 -87.666963   \n",
       "3           CULEX PIPIENS  41.872873 -87.764737   \n",
       "4          CULEX RESTUANS  41.986320 -87.728378   \n",
       "\n",
       "                                   LOCATION  \n",
       "0                                       NaN  \n",
       "1  (41.986319851449004, -87.72837845617912)  \n",
       "2   (41.92170457422864, -87.66696323469388)  \n",
       "3    (41.87287286249572, -87.7647365320396)  \n",
       "4  (41.986319851449004, -87.72837845617912)  "
      ]
     },
     "execution_count": 7,
     "metadata": {},
     "output_type": "execute_result"
    }
   ],
   "source": [
    "mosquito.head()"
   ]
  },
  {
   "cell_type": "markdown",
   "metadata": {},
   "source": [
    "### Cleaning the mosquito data\n",
    "#### Beginning with some quick fixes"
   ]
  },
  {
   "cell_type": "code",
   "execution_count": 9,
   "metadata": {},
   "outputs": [],
   "source": [
    "# Changing the columns to be easier to use\n",
    "mosquito = mosquito.sort_values(by='TEST ID')\n",
    "mosquito['RESULT'] = mosquito['RESULT'].map(lambda x: 0 if x == 'negative' else 1)\n",
    "mosquito['TEST DATE'] = pd.to_datetime(mosquito['TEST DATE'])"
   ]
  },
  {
   "cell_type": "markdown",
   "metadata": {},
   "source": [
    "#### Fixing the missing locations"
   ]
  },
  {
   "cell_type": "code",
   "execution_count": 10,
   "metadata": {},
   "outputs": [
    {
     "data": {
      "text/plain": [
       "array(['65XX N OAK PARK AVE', '43XX N ASHLAND', '4XX W 127TH',\n",
       "       '81XX S ASHLAND', '79XX S CHICAGO', '30XX S HOYNE',\n",
       "       '98XX S AVENUE G', '115XX S AVENUE L', '100XX W OHARE',\n",
       "       '100XX W OHARE AIRPORT'], dtype=object)"
      ]
     },
     "execution_count": 10,
     "metadata": {},
     "output_type": "execute_result"
    }
   ],
   "source": [
    "# Looking at which location information is missing\n",
    "mosquito[mosquito['LOCATION'].isna()==True]['BLOCK'].unique()"
   ]
  },
  {
   "cell_type": "code",
   "execution_count": 13,
   "metadata": {},
   "outputs": [],
   "source": [
    "# Filling in all of the missing lat and long data using Google Maps\n",
    "for i in mosquito[mosquito['BLOCK'] == '65XX N OAK PARK AVE'].index:\n",
    "    mosquito.loc[i,['LATITUDE', 'LONGITUDE']] = [42.000048, -87.795637]\n",
    "for i in mosquito[mosquito['BLOCK'] == '43XX N ASHLAND'].index:\n",
    "    mosquito.loc[i,['LATITUDE', 'LONGITUDE']] = [41.960938, -87.669239]\n",
    "for i in mosquito[mosquito['BLOCK'] == '4XX W 127TH'].index:\n",
    "    mosquito.loc[i,['LATITUDE', 'LONGITUDE']] = [41.663323, -87.633490]\n",
    "for i in mosquito[mosquito['BLOCK'] == '79XX S CHICAGO'].index:\n",
    "    mosquito.loc[i,['LATITUDE', 'LONGITUDE']] = [41.752418, -87.587062]\n",
    "for i in mosquito[mosquito['BLOCK'] == '30XX S HOYNE'].index:\n",
    "    mosquito.loc[i,['LATITUDE', 'LONGITUDE']] = [41.836610, -87.677720]\n",
    "for i in mosquito[mosquito['BLOCK'] == '98XX S AVENUE G'].index:\n",
    "    mosquito.loc[i,['LATITUDE', 'LONGITUDE']] = [41.717151, -87.531634]\n",
    "for i in mosquito[mosquito['BLOCK'] == '115XX S AVENUE L'].index:\n",
    "    mosquito.loc[i,['LATITUDE', 'LONGITUDE']] = [41.685640, -87.536430]\n",
    "for i in mosquito[mosquito['BLOCK'] == '100XX W OHARE'].index:\n",
    "    mosquito.loc[i,['LATITUDE', 'LONGITUDE']] = [41.977498, -87.881006]\n",
    "for i in mosquito[mosquito['BLOCK'] == '100XX W OHARE AIRPORT'].index:\n",
    "    mosquito.loc[i,['LATITUDE', 'LONGITUDE']] = [41.978969, -87.902679]\n",
    "for i in mosquito[mosquito['BLOCK'] == '81XX S ASHLAND'].index:\n",
    "    mosquito.loc[i,['LATITUDE', 'LONGITUDE']] = [41.745861, -87.663463]"
   ]
  },
  {
   "cell_type": "code",
   "execution_count": 15,
   "metadata": {},
   "outputs": [
    {
     "data": {
      "text/plain": [
       "SEASON YEAR                0\n",
       "WEEK                       0\n",
       "TEST ID                    0\n",
       "BLOCK                      0\n",
       "TRAP                       0\n",
       "TRAP_TYPE                  0\n",
       "TEST DATE                  0\n",
       "NUMBER OF MOSQUITOES       0\n",
       "RESULT                     0\n",
       "SPECIES                    0\n",
       "LATITUDE                   0\n",
       "LONGITUDE                  0\n",
       "LOCATION                4084\n",
       "dtype: int64"
      ]
     },
     "execution_count": 15,
     "metadata": {},
     "output_type": "execute_result"
    }
   ],
   "source": [
    "# Checking that it is done\n",
    "mosquito.isna().sum()"
   ]
  },
  {
   "cell_type": "markdown",
   "metadata": {},
   "source": [
    "# Weather Data\n",
    "### Grouping the weather data"
   ]
  },
  {
   "cell_type": "code",
   "execution_count": 36,
   "metadata": {},
   "outputs": [],
   "source": [
    "# Combining all of the weather data for each day\n",
    "weather_0607 = weather_0607.groupby('DATE', as_index=False).mean()\n",
    "weather_0809 = weather_0809.groupby('DATE', as_index=False).mean()\n",
    "weather_1011 = weather_1011.groupby('DATE', as_index=False).mean()\n",
    "weather_1213 = weather_1213.groupby('DATE', as_index=False).mean()\n",
    "weather_1415 = weather_1415.groupby('DATE', as_index=False).mean()\n",
    "weather_1617 = weather_1617.groupby('DATE', as_index=False).mean()\n",
    "weather_18 = weather_18.groupby('DATE', as_index=False).mean()"
   ]
  },
  {
   "cell_type": "code",
   "execution_count": 37,
   "metadata": {},
   "outputs": [],
   "source": [
    "# Combining all of the weather data into one data frame\n",
    "weather = pd.concat([weather_0607, weather_0809, weather_1011, weather_1213, weather_1415, weather_1617, weather_18])\n",
    "weather.reset_index(drop=True, inplace=True)"
   ]
  },
  {
   "cell_type": "markdown",
   "metadata": {},
   "source": [
    "### Looking at the weather data"
   ]
  },
  {
   "cell_type": "code",
   "execution_count": 38,
   "metadata": {},
   "outputs": [
    {
     "data": {
      "text/plain": [
       "(4644, 6)"
      ]
     },
     "execution_count": 38,
     "metadata": {},
     "output_type": "execute_result"
    }
   ],
   "source": [
    "weather.shape"
   ]
  },
  {
   "cell_type": "code",
   "execution_count": 39,
   "metadata": {},
   "outputs": [
    {
     "data": {
      "text/html": [
       "<div>\n",
       "<style scoped>\n",
       "    .dataframe tbody tr th:only-of-type {\n",
       "        vertical-align: middle;\n",
       "    }\n",
       "\n",
       "    .dataframe tbody tr th {\n",
       "        vertical-align: top;\n",
       "    }\n",
       "\n",
       "    .dataframe thead th {\n",
       "        text-align: right;\n",
       "    }\n",
       "</style>\n",
       "<table border=\"1\" class=\"dataframe\">\n",
       "  <thead>\n",
       "    <tr style=\"text-align: right;\">\n",
       "      <th></th>\n",
       "      <th>AWND</th>\n",
       "      <th>PRCP</th>\n",
       "      <th>TAVG</th>\n",
       "      <th>TMAX</th>\n",
       "      <th>TMIN</th>\n",
       "    </tr>\n",
       "  </thead>\n",
       "  <tbody>\n",
       "    <tr>\n",
       "      <th>count</th>\n",
       "      <td>4642.000000</td>\n",
       "      <td>4644.000000</td>\n",
       "      <td>1915.000000</td>\n",
       "      <td>4644.000000</td>\n",
       "      <td>4644.000000</td>\n",
       "    </tr>\n",
       "    <tr>\n",
       "      <th>mean</th>\n",
       "      <td>9.026103</td>\n",
       "      <td>0.118150</td>\n",
       "      <td>51.086684</td>\n",
       "      <td>60.080216</td>\n",
       "      <td>42.106422</td>\n",
       "    </tr>\n",
       "    <tr>\n",
       "      <th>std</th>\n",
       "      <td>3.530508</td>\n",
       "      <td>0.277222</td>\n",
       "      <td>20.121984</td>\n",
       "      <td>20.904471</td>\n",
       "      <td>19.048272</td>\n",
       "    </tr>\n",
       "    <tr>\n",
       "      <th>min</th>\n",
       "      <td>1.713333</td>\n",
       "      <td>0.000000</td>\n",
       "      <td>-8.000000</td>\n",
       "      <td>-0.333333</td>\n",
       "      <td>-18.400000</td>\n",
       "    </tr>\n",
       "    <tr>\n",
       "      <th>25%</th>\n",
       "      <td>6.336667</td>\n",
       "      <td>0.000093</td>\n",
       "      <td>36.000000</td>\n",
       "      <td>42.800000</td>\n",
       "      <td>28.300000</td>\n",
       "    </tr>\n",
       "    <tr>\n",
       "      <th>50%</th>\n",
       "      <td>8.573333</td>\n",
       "      <td>0.006850</td>\n",
       "      <td>53.000000</td>\n",
       "      <td>62.000000</td>\n",
       "      <td>42.700000</td>\n",
       "    </tr>\n",
       "    <tr>\n",
       "      <th>75%</th>\n",
       "      <td>11.260000</td>\n",
       "      <td>0.094230</td>\n",
       "      <td>69.000000</td>\n",
       "      <td>78.900000</td>\n",
       "      <td>58.800000</td>\n",
       "    </tr>\n",
       "    <tr>\n",
       "      <th>max</th>\n",
       "      <td>24.533333</td>\n",
       "      <td>3.761504</td>\n",
       "      <td>87.000000</td>\n",
       "      <td>102.111111</td>\n",
       "      <td>79.666667</td>\n",
       "    </tr>\n",
       "  </tbody>\n",
       "</table>\n",
       "</div>"
      ],
      "text/plain": [
       "              AWND         PRCP         TAVG         TMAX         TMIN\n",
       "count  4642.000000  4644.000000  1915.000000  4644.000000  4644.000000\n",
       "mean      9.026103     0.118150    51.086684    60.080216    42.106422\n",
       "std       3.530508     0.277222    20.121984    20.904471    19.048272\n",
       "min       1.713333     0.000000    -8.000000    -0.333333   -18.400000\n",
       "25%       6.336667     0.000093    36.000000    42.800000    28.300000\n",
       "50%       8.573333     0.006850    53.000000    62.000000    42.700000\n",
       "75%      11.260000     0.094230    69.000000    78.900000    58.800000\n",
       "max      24.533333     3.761504    87.000000   102.111111    79.666667"
      ]
     },
     "execution_count": 39,
     "metadata": {},
     "output_type": "execute_result"
    }
   ],
   "source": [
    "weather.describe()"
   ]
  },
  {
   "cell_type": "code",
   "execution_count": 40,
   "metadata": {},
   "outputs": [
    {
     "data": {
      "text/plain": [
       "DATE       0\n",
       "AWND       2\n",
       "PRCP       0\n",
       "TAVG    2729\n",
       "TMAX       0\n",
       "TMIN       0\n",
       "dtype: int64"
      ]
     },
     "execution_count": 40,
     "metadata": {},
     "output_type": "execute_result"
    }
   ],
   "source": [
    "weather.isna().sum()"
   ]
  },
  {
   "cell_type": "code",
   "execution_count": 41,
   "metadata": {},
   "outputs": [
    {
     "data": {
      "text/html": [
       "<div>\n",
       "<style scoped>\n",
       "    .dataframe tbody tr th:only-of-type {\n",
       "        vertical-align: middle;\n",
       "    }\n",
       "\n",
       "    .dataframe tbody tr th {\n",
       "        vertical-align: top;\n",
       "    }\n",
       "\n",
       "    .dataframe thead th {\n",
       "        text-align: right;\n",
       "    }\n",
       "</style>\n",
       "<table border=\"1\" class=\"dataframe\">\n",
       "  <thead>\n",
       "    <tr style=\"text-align: right;\">\n",
       "      <th></th>\n",
       "      <th>DATE</th>\n",
       "      <th>AWND</th>\n",
       "      <th>PRCP</th>\n",
       "      <th>TAVG</th>\n",
       "      <th>TMAX</th>\n",
       "      <th>TMIN</th>\n",
       "    </tr>\n",
       "  </thead>\n",
       "  <tbody>\n",
       "    <tr>\n",
       "      <th>0</th>\n",
       "      <td>2006-01-01</td>\n",
       "      <td>8.276667</td>\n",
       "      <td>0.006000</td>\n",
       "      <td>NaN</td>\n",
       "      <td>42.0</td>\n",
       "      <td>29.0</td>\n",
       "    </tr>\n",
       "    <tr>\n",
       "      <th>1</th>\n",
       "      <td>2006-01-02</td>\n",
       "      <td>12.226667</td>\n",
       "      <td>0.210667</td>\n",
       "      <td>NaN</td>\n",
       "      <td>43.4</td>\n",
       "      <td>37.2</td>\n",
       "    </tr>\n",
       "    <tr>\n",
       "      <th>2</th>\n",
       "      <td>2006-01-03</td>\n",
       "      <td>6.786667</td>\n",
       "      <td>0.200000</td>\n",
       "      <td>NaN</td>\n",
       "      <td>42.3</td>\n",
       "      <td>37.7</td>\n",
       "    </tr>\n",
       "    <tr>\n",
       "      <th>3</th>\n",
       "      <td>2006-01-04</td>\n",
       "      <td>11.933333</td>\n",
       "      <td>0.015000</td>\n",
       "      <td>NaN</td>\n",
       "      <td>43.0</td>\n",
       "      <td>36.1</td>\n",
       "    </tr>\n",
       "    <tr>\n",
       "      <th>4</th>\n",
       "      <td>2006-01-05</td>\n",
       "      <td>12.226667</td>\n",
       "      <td>0.006250</td>\n",
       "      <td>NaN</td>\n",
       "      <td>39.6</td>\n",
       "      <td>31.9</td>\n",
       "    </tr>\n",
       "  </tbody>\n",
       "</table>\n",
       "</div>"
      ],
      "text/plain": [
       "         DATE       AWND      PRCP  TAVG  TMAX  TMIN\n",
       "0  2006-01-01   8.276667  0.006000   NaN  42.0  29.0\n",
       "1  2006-01-02  12.226667  0.210667   NaN  43.4  37.2\n",
       "2  2006-01-03   6.786667  0.200000   NaN  42.3  37.7\n",
       "3  2006-01-04  11.933333  0.015000   NaN  43.0  36.1\n",
       "4  2006-01-05  12.226667  0.006250   NaN  39.6  31.9"
      ]
     },
     "execution_count": 41,
     "metadata": {},
     "output_type": "execute_result"
    }
   ],
   "source": [
    "weather.head()"
   ]
  },
  {
   "cell_type": "markdown",
   "metadata": {},
   "source": [
    "#### Fixing the NaNs in the data set"
   ]
  },
  {
   "cell_type": "code",
   "execution_count": 43,
   "metadata": {},
   "outputs": [],
   "source": [
    "# Using the average of max and min temp for days with missing average temp\n",
    "for i in weather[weather['TAVG'].isna()].index:\n",
    "    weather.loc[i, 'TAVG'] = weather.loc[i, ['TMAX', 'TMIN']].sum()/2"
   ]
  },
  {
   "cell_type": "code",
   "execution_count": 44,
   "metadata": {},
   "outputs": [],
   "source": [
    "# Correcting winding speed data using weather.gov\n",
    "weather.loc[weather[weather['DATE']=='2018-09-18'].index, 'AWND'] = 8.3\n",
    "weather.loc[weather[weather['DATE']=='2018-09-17'].index, 'AWND'] = 3.3"
   ]
  },
  {
   "cell_type": "markdown",
   "metadata": {},
   "source": [
    "# Exporting the Data"
   ]
  },
  {
   "cell_type": "code",
   "execution_count": 49,
   "metadata": {},
   "outputs": [],
   "source": [
    "# These are commented out so that we don't accidentally run them.\n",
    "weather.to_csv('./assets/weather')\n",
    "mosquito.to_csv('./assets/mosquito_data')"
   ]
  }
 ],
 "metadata": {
  "kernelspec": {
   "display_name": "Python [conda env:dsi]",
   "language": "python",
   "name": "conda-env-dsi-py"
  },
  "language_info": {
   "codemirror_mode": {
    "name": "ipython",
    "version": 3
   },
   "file_extension": ".py",
   "mimetype": "text/x-python",
   "name": "python",
   "nbconvert_exporter": "python",
   "pygments_lexer": "ipython3",
   "version": "3.6.5"
  }
 },
 "nbformat": 4,
 "nbformat_minor": 2
}
