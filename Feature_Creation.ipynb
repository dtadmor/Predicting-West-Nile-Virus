{
 "cells": [
  {
   "cell_type": "markdown",
   "metadata": {},
   "source": [
    "#  Importing Libraries and Data"
   ]
  },
  {
   "cell_type": "code",
   "execution_count": 1,
   "metadata": {},
   "outputs": [],
   "source": [
    "import pandas as pd"
   ]
  },
  {
   "cell_type": "code",
   "execution_count": 2,
   "metadata": {},
   "outputs": [],
   "source": [
    "weather = pd.read_csv('./assets/weather', index_col=0)\n",
    "mosquito = pd.read_csv('./assets/mosquito_data', index_col=0)"
   ]
  },
  {
   "cell_type": "code",
   "execution_count": 3,
   "metadata": {},
   "outputs": [],
   "source": [
    "# Converting the dates back into datetime\n",
    "mosquito['TEST DATE'] = pd.to_datetime(mosquito['TEST DATE'])\n",
    "weather['DATE'] = pd.to_datetime(weather['DATE'])"
   ]
  },
  {
   "cell_type": "markdown",
   "metadata": {},
   "source": [
    "# Splitting into Train and Test Data"
   ]
  },
  {
   "cell_type": "code",
   "execution_count": 4,
   "metadata": {},
   "outputs": [],
   "source": [
    "# Creating the hold out set for mosquito data\n",
    "mosquito_train = mosquito.set_index('TEST DATE').loc['2007':'2015']\n",
    "mosquito_test = mosquito.set_index('TEST DATE').loc['2016':'2018']"
   ]
  },
  {
   "cell_type": "code",
   "execution_count": 5,
   "metadata": {},
   "outputs": [],
   "source": [
    "# Creating the hold out set for weather data and including the prior year to the mosquito data\n",
    "weather_train = weather.set_index('DATE').loc['2006':'2015']\n",
    "weather_test = weather.set_index('DATE').loc['2015':'2018']"
   ]
  },
  {
   "cell_type": "markdown",
   "metadata": {},
   "source": [
    "# Preparing the Data for Feature Engineering\n",
    "### Fixing the Pipiens/Restuans Problem\n",
    "#### Finding the proportions of pipiens/restuans that carry wnv and that are caught"
   ]
  },
  {
   "cell_type": "code",
   "execution_count": 6,
   "metadata": {},
   "outputs": [
    {
     "data": {
      "text/plain": [
       "array(['CULEX PIPIENS/RESTUANS', 'CULEX RESTUANS', 'CULEX PIPIENS',\n",
       "       'CULEX SALINARIUS', 'CULEX TERRITANS', 'CULEX TARSALIS',\n",
       "       'UNSPECIFIED CULEX', 'CULEX ERRATICUS'], dtype=object)"
      ]
     },
     "execution_count": 6,
     "metadata": {},
     "output_type": "execute_result"
    }
   ],
   "source": [
    "# Beginning by looking at the species available\n",
    "mosquito_train['SPECIES'].unique()"
   ]
  },
  {
   "cell_type": "code",
   "execution_count": 7,
   "metadata": {},
   "outputs": [
    {
     "data": {
      "text/plain": [
       "(0.39655172413793105, 0.603448275862069)"
      ]
     },
     "execution_count": 7,
     "metadata": {},
     "output_type": "execute_result"
    }
   ],
   "source": [
    "# Determining the proportions of wnv in in order to fix pipiens/restuans problem\n",
    "restuans_wnv = mosquito_train[(mosquito_train['RESULT']==1) & (mosquito_train['SPECIES']=='CULEX RESTUANS')]['RESULT'].sum()\n",
    "pipiens_wnv = mosquito_train[(mosquito_train['RESULT']==1) & (mosquito_train['SPECIES']=='CULEX PIPIENS')]['RESULT'].sum()\n",
    "restuans_wnv_perc = restuans_wnv/(pipiens_wnv + restuans_wnv)\n",
    "pipiens_wnv_perc = 1 - restuans_wnv_perc\n",
    "restuans_wnv_perc, pipiens_wnv_perc"
   ]
  },
  {
   "cell_type": "code",
   "execution_count": 8,
   "metadata": {},
   "outputs": [
    {
     "data": {
      "text/plain": [
       "(0.513083720412999, 0.486916279587001)"
      ]
     },
     "execution_count": 8,
     "metadata": {},
     "output_type": "execute_result"
    }
   ],
   "source": [
    "# Determining the proportions of mosquitoes in the two species\n",
    "restuans_mosq = mosquito_train[mosquito_train['SPECIES']=='CULEX RESTUANS']['NUMBER OF MOSQUITOES'].sum()\n",
    "pipiens_mosq = mosquito_train[mosquito_train['SPECIES']=='CULEX PIPIENS']['NUMBER OF MOSQUITOES'].sum()\n",
    "restuans_mosq_perc = restuans_mosq/(pipiens_mosq + restuans_mosq)\n",
    "pipiens_mosq_perc = 1 - restuans_mosq_perc\n",
    "restuans_mosq_perc, pipiens_mosq_perc"
   ]
  },
  {
   "cell_type": "code",
   "execution_count": 9,
   "metadata": {},
   "outputs": [],
   "source": [
    "# Creating a column with the number of each mosquito found\n",
    "species_list = mosquito_train['SPECIES'].unique()\n",
    "mosquito_train = pd.get_dummies(mosquito_train, columns=['SPECIES'])\n",
    "for species in species_list:\n",
    "    mosquito_train['SPECIES_' + species] *= mosquito_train['NUMBER OF MOSQUITOES']\n",
    "mosquito_test = pd.get_dummies(mosquito_test, columns=['SPECIES'])\n",
    "for species in species_list:\n",
    "    try:\n",
    "        mosquito_test['SPECIES_' + species] *= mosquito_test['NUMBER OF MOSQUITOES']\n",
    "    except:\n",
    "        pass"
   ]
  },
  {
   "cell_type": "code",
   "execution_count": 10,
   "metadata": {},
   "outputs": [],
   "source": [
    "# Creating a column with species index\n",
    "mosquito_train = mosquito_train.reset_index()\n",
    "for row in mosquito_train.index:\n",
    "    for species in species_list:\n",
    "        if mosquito_train.loc[row, 'SPECIES_' + species] >= 1:\n",
    "            mosquitoes = mosquito_train.loc[row, 'SPECIES_' + species]\n",
    "            result = mosquito_train.loc[row, 'RESULT']\n",
    "            mosquito_train.loc[row, species + ' INDEX'] = mosquitoes * result\n",
    "            break\n",
    "mosquito_test = mosquito_test.reset_index()\n",
    "for row in mosquito_test.index:\n",
    "    for species in species_list:\n",
    "        try:\n",
    "            if mosquito_test.loc[row, 'SPECIES_' + species] >= 1:\n",
    "                mosquitoes = mosquito_test.loc[row, 'SPECIES_' + species]\n",
    "                result = mosquito_test.loc[row, 'RESULT']\n",
    "                mosquito_test.loc[row, species + ' INDEX'] = mosquitoes * result\n",
    "                break\n",
    "        except:\n",
    "            pass"
   ]
  },
  {
   "cell_type": "code",
   "execution_count": 11,
   "metadata": {},
   "outputs": [],
   "source": [
    "# Filling in the NaNs\n",
    "mosquito_train.fillna(0, inplace=True)\n",
    "mosquito_test.fillna(0, inplace=True)"
   ]
  },
  {
   "cell_type": "code",
   "execution_count": 12,
   "metadata": {},
   "outputs": [],
   "source": [
    "# Redistributing the restuans/pipiens mosquitos into restuans and pipiens\n",
    "for row in mosquito_train[mosquito_train['SPECIES_CULEX PIPIENS/RESTUANS']>=1].index:\n",
    "    mosquitoes = mosquito_train.loc[row, 'NUMBER OF MOSQUITOES']\n",
    "    result = mosquito_train.loc[row, 'RESULT']\n",
    "    mosquito_train.loc[row, 'SPECIES_CULEX PIPIENS'] = pipiens_mosq_perc * mosquitoes\n",
    "    mosquito_train.loc[row, 'SPECIES_CULEX RESTUANS'] = restuans_mosq_perc * mosquitoes\n",
    "    mosquito_train.loc[row, 'CULEX PIPIENS INDEX'] = pipiens_mosq_perc * mosquitoes * result\n",
    "    mosquito_train.loc[row, 'CULEX RESTUANS INDEX'] = restuans_mosq_perc * mosquitoes * result\n",
    "for row in mosquito_test[mosquito_test['SPECIES_CULEX PIPIENS/RESTUANS']>=1].index:\n",
    "    mosquitoes = mosquito_test.loc[row, 'NUMBER OF MOSQUITOES']\n",
    "    result = mosquito_test.loc[row, 'RESULT']\n",
    "    mosquito_test.loc[row, 'SPECIES_CULEX PIPIENS'] = pipiens_mosq_perc * mosquitoes\n",
    "    mosquito_test.loc[row, 'SPECIES_CULEX RESTUANS'] = restuans_mosq_perc * mosquitoes\n",
    "    mosquito_test.loc[row, 'CULEX PIPIENS INDEX'] = pipiens_mosq_perc * mosquitoes * result\n",
    "    mosquito_test.loc[row, 'CULEX RESTUANS INDEX'] = restuans_mosq_perc * mosquitoes * result"
   ]
  },
  {
   "cell_type": "markdown",
   "metadata": {},
   "source": [
    "# Creating Features\n",
    "### Starting with weather features\n",
    "#### Creating a degree week"
   ]
  },
  {
   "cell_type": "code",
   "execution_count": 13,
   "metadata": {},
   "outputs": [],
   "source": [
    "# Creating the degree week by looking at the average temperature of the prior week compared to 71.6 degrees\n",
    "# See https://parasitesandvectors.biomedcentral.com/articles/10.1186/1756-3305-3-19 for more info\n",
    "weather_train['DW'] = weather_train['TAVG'].rolling(7).mean().map(lambda x: x - 71.6 if x > 71.6 else 0)\n",
    "weather_test['DW'] = weather_test['TAVG'].rolling(7).mean().map(lambda x: x - 71.6 if x > 71.6 else 0)"
   ]
  },
  {
   "cell_type": "markdown",
   "metadata": {},
   "source": [
    "#### Creating a last year precipitation feature"
   ]
  },
  {
   "cell_type": "code",
   "execution_count": 14,
   "metadata": {},
   "outputs": [],
   "source": [
    "# Calculating the average precipation of the previous year and using it as a feature\n",
    "for year in range(2007, 2016):\n",
    "    weather_train.loc[str(year), 'PRCP LAST YEAR'] = weather.set_index('DATE').loc[str(year - 1), 'PRCP'].mean()\n",
    "for year in range(2015, 2019):\n",
    "    weather_test.loc[str(year), 'PRCP LAST YEAR'] = weather.set_index('DATE').loc[str(year - 1), 'PRCP'].mean()"
   ]
  },
  {
   "cell_type": "markdown",
   "metadata": {},
   "source": [
    "#### Creating lags for the features"
   ]
  },
  {
   "cell_type": "code",
   "execution_count": 27,
   "metadata": {},
   "outputs": [],
   "source": [
    "# Creating lags of the degree week\n",
    "for i in range(1,6):\n",
    "    weather_train['DW_' + str(i)] = weather_train['DW'].shift(i*7)\n",
    "    weather_train['DW_' + str(i)].fillna(0, inplace=True)\n",
    "for i in range(1,6):\n",
    "    weather_test['DW_' + str(i)] = weather_test['DW'].shift(i*7)\n",
    "    weather_test['DW_' + str(i)].fillna(0, inplace=True)"
   ]
  },
  {
   "cell_type": "code",
   "execution_count": 28,
   "metadata": {},
   "outputs": [],
   "source": [
    "# Creating lags of rolling week precipitation\n",
    "for i in range(1,6):\n",
    "    weather_train['PRCP_' + str(i)] = weather_train['PRCP'].shift(i*7).rolling(7, min_periods=1).mean()\n",
    "    weather_train['PRCP_' + str(i)].fillna(0, inplace=True)\n",
    "for i in range(1,6):\n",
    "    weather_test['PRCP_' + str(i)] = weather_test['PRCP'].shift(i*7).rolling(7, min_periods=1).mean()\n",
    "    weather_test['PRCP_' + str(i)].fillna(0, inplace=True)"
   ]
  },
  {
   "cell_type": "markdown",
   "metadata": {},
   "source": [
    "### Moving on to mosquito features\n",
    "#### Creating a vector index"
   ]
  },
  {
   "cell_type": "code",
   "execution_count": 15,
   "metadata": {},
   "outputs": [],
   "source": [
    "# Creating a vector index by adding each species index\n",
    "# See https://parasitesandvectors.biomedcentral.com/articles/10.1186/1756-3305-3-19 for more info\n",
    "vector_list = ['CULEX RESTUANS INDEX', 'CULEX PIPIENS INDEX', 'CULEX SALINARIUS INDEX', 'CULEX TERRITANS INDEX',\n",
    "               'CULEX TARSALIS INDEX', 'UNSPECIFIED CULEX INDEX', 'CULEX ERRATICUS INDEX']\n",
    "mosquito_train['VI'] = mosquito_train[vector_list].sum(axis=1)\n",
    "vector_list = ['CULEX RESTUANS INDEX', 'CULEX PIPIENS INDEX', 'CULEX SALINARIUS INDEX', 'CULEX TERRITANS INDEX',\n",
    "               'CULEX TARSALIS INDEX', 'CULEX ERRATICUS INDEX']\n",
    "mosquito_test['VI'] = mosquito_test[vector_list].sum(axis=1)"
   ]
  },
  {
   "cell_type": "markdown",
   "metadata": {},
   "source": [
    "####  Cleaning some data that missed"
   ]
  },
  {
   "cell_type": "code",
   "execution_count": 16,
   "metadata": {},
   "outputs": [
    {
     "name": "stdout",
     "output_type": "stream",
     "text": [
      "train long T035\n"
     ]
    }
   ],
   "source": [
    "# Checking for traps that 'moved'\n",
    "for trap in mosquito_train['TRAP'].unique():\n",
    "    if len(mosquito_train[mosquito_train['TRAP']==trap]['LONGITUDE'].unique())>1:\n",
    "        print('train long', trap)\n",
    "    elif len(mosquito_train[mosquito_train['TRAP']==trap]['LATITUDE'].unique())>1:\n",
    "        print('train lat', trap)\n",
    "        \n",
    "for trap in mosquito_test['TRAP'].unique():\n",
    "    if len(mosquito_test[mosquito_test['TRAP']==trap]['LONGITUDE'].unique())>1:\n",
    "        print('test long', trap)\n",
    "    elif len(mosquito_test[mosquito_test['TRAP']==trap]['LATITUDE'].unique())>1:\n",
    "        print('test lat', trap)"
   ]
  },
  {
   "cell_type": "code",
   "execution_count": 17,
   "metadata": {},
   "outputs": [
    {
     "data": {
      "text/plain": [
       "array([-87.67772   , -87.63787261])"
      ]
     },
     "execution_count": 17,
     "metadata": {},
     "output_type": "execute_result"
    }
   ],
   "source": [
    "# Understanding how it moved\n",
    "mosquito_train[mosquito_train['TRAP']=='T035']['LONGITUDE'].unique()"
   ]
  },
  {
   "cell_type": "code",
   "execution_count": 18,
   "metadata": {},
   "outputs": [],
   "source": [
    "# Checking if the dates overlap\n",
    "for date in mosquito_train[(mosquito_train['TRAP']=='T035')&\n",
    "                           (mosquito_train['LONGITUDE']== -87.677720)]['TEST DATE'].unique():\n",
    "    if date in mosquito_train[(mosquito_train['TRAP']=='T035')&\n",
    "                              (mosquito_train['LONGITUDE']== -87.637872614)]['TEST DATE'].unique():\n",
    "        print(date)"
   ]
  },
  {
   "cell_type": "code",
   "execution_count": 23,
   "metadata": {},
   "outputs": [],
   "source": [
    "# Grouping each of the trap locations for each day\n",
    "mosquito_train = mosquito_train.groupby(['TEST DATE', 'SEASON YEAR', 'LONGITUDE', 'LATITUDE'],\n",
    "                                        as_index=False).sum()\n",
    "mosquito_test = mosquito_test.groupby(['TEST DATE', 'SEASON YEAR', 'LONGITUDE', 'LATITUDE'],\n",
    "                                      as_index=False).sum()"
   ]
  },
  {
   "cell_type": "markdown",
   "metadata": {},
   "source": [
    "#### Creating vector distance"
   ]
  },
  {
   "cell_type": "code",
   "execution_count": 24,
   "metadata": {
    "scrolled": true
   },
   "outputs": [],
   "source": [
    "# Creating vector distances for the train data using inverse distances\n",
    "for row in mosquito_train.index:\n",
    "    \n",
    "    # Update these features for the observation\n",
    "    long = mosquito_train.loc[row, 'LONGITUDE']\n",
    "    lat = mosquito_train.loc[row, 'LATITUDE']\n",
    "    date = mosquito_train.loc[row, 'TEST DATE']\n",
    "    mosquito_train.loc[row, 'VD'] = 0\n",
    "    \n",
    "    for row_2 in mosquito_train[mosquito_train['TEST DATE']==date].drop(row).index:\n",
    "        \n",
    "        # Calculate the inverse distances with other row and multiply them by their VI\n",
    "        long_dist = abs(long - mosquito_train.loc[row_2, 'LONGITUDE'])\n",
    "        lat_dist = abs(lat - mosquito_train.loc[row_2, 'LATITUDE'])\n",
    "        distance = ((long_dist ** 2) + (lat_dist ** 2)) ** .5\n",
    "        if distance != 0:\n",
    "            vector_distance = (1.0 / distance) * mosquito_train.loc[row_2, 'VI']\n",
    "            mosquito_train.loc[row, 'VD'] += vector_distance\n",
    "        else:\n",
    "            print('train', row, row_2)\n",
    "            \n",
    "# Creating vector distances for the test data using inverse distances           \n",
    "for row in mosquito_test.index:\n",
    "    \n",
    "    # Update these features for the observation\n",
    "    long = mosquito_test.loc[row, 'LONGITUDE']\n",
    "    lat = mosquito_test.loc[row, 'LATITUDE']\n",
    "    date = mosquito_test.loc[row, 'TEST DATE']\n",
    "    mosquito_test.loc[row, 'VD'] = 0\n",
    "    \n",
    "    for row_2 in mosquito_test[mosquito_test['TEST DATE']==date].drop(row).index:\n",
    "        \n",
    "        # Calculate the inverse distances with other row and multiply them by their VI\n",
    "        long_dist = abs(long - mosquito_test.loc[row_2, 'LONGITUDE'])\n",
    "        lat_dist = abs(lat - mosquito_test.loc[row_2, 'LATITUDE'])\n",
    "        distance = ((long_dist ** 2) + (lat_dist ** 2)) ** .5\n",
    "        if distance != 0:\n",
    "            vector_distance = (1.0 / distance) * mosquito_test.loc[row_2, 'VI']\n",
    "            mosquito_test.loc[row, 'VD'] += vector_distance\n",
    "        else:\n",
    "            print('test', row, row_2)"
   ]
  },
  {
   "cell_type": "markdown",
   "metadata": {},
   "source": [
    "#### Creating lags for the mosquito data"
   ]
  },
  {
   "cell_type": "code",
   "execution_count": 42,
   "metadata": {},
   "outputs": [],
   "source": [
    "# Creating a lag for the last trap data for the VI\n",
    "for long in mosquito_train['LONGITUDE'].unique():\n",
    "    for lat in mosquito_train[mosquito_train['LONGITUDE']==long]['LATITUDE'].unique():\n",
    "        for row in mosquito_train[(mosquito_train['LONGITUDE']==long)&(mosquito_train['LATITUDE']==lat)].index:\n",
    "            mosquito_train.loc[row, 'VI_1'] = mosquito_train[(mosquito_train['LONGITUDE']==long)&\n",
    "                                                             (mosquito_train['LATITUDE']==lat)]['VI'].shift(1)[row]\n",
    "\n",
    "for long in mosquito_test['LONGITUDE'].unique():\n",
    "    for lat in mosquito_test[mosquito_test['LONGITUDE']==long]['LATITUDE'].unique():\n",
    "        for row in mosquito_test[(mosquito_test['LONGITUDE']==long)&(mosquito_test['LATITUDE']==lat)].index:\n",
    "            mosquito_test.loc[row, 'VI_1'] = mosquito_test[(mosquito_test['LONGITUDE']==long)&\n",
    "                                                             (mosquito_test['LATITUDE']==lat)]['VI'].shift(1)[row]"
   ]
  },
  {
   "cell_type": "code",
   "execution_count": 61,
   "metadata": {},
   "outputs": [],
   "source": [
    "# If there is no lag data for a trap, use the average vector index of the prior week otherwise fill with a 0\n",
    "for row in mosquito_train[mosquito_train['VI_1'].isna()].index:\n",
    "    date = mosquito_train.loc[row, 'TEST DATE']\n",
    "    mosquito_train.loc[row, 'VI_1'] = mosquito_train.groupby('TEST DATE').mean().shift(7)['VI'][date]\n",
    "mosquito_train['VI_1'].fillna(0, inplace=True)\n",
    "\n",
    "for row in mosquito_test[mosquito_test['VI_1'].isna()].index:\n",
    "    date = mosquito_test.loc[row, 'TEST DATE']\n",
    "    mosquito_test.loc[row, 'VI_1'] = mosquito_test.groupby('TEST DATE').mean().shift(7)['VI'][date]\n",
    "mosquito_test['VI_1'].fillna(0, inplace=True)"
   ]
  },
  {
   "cell_type": "code",
   "execution_count": 65,
   "metadata": {},
   "outputs": [],
   "source": [
    "# Creating a lag for the last trap data for the VD\n",
    "for long in mosquito_train['LONGITUDE'].unique():\n",
    "    for lat in mosquito_train[mosquito_train['LONGITUDE']==long]['LATITUDE'].unique():\n",
    "        for row in mosquito_train[(mosquito_train['LONGITUDE']==long)&(mosquito_train['LATITUDE']==lat)].index:\n",
    "            mosquito_train.loc[row, 'VD_1'] = mosquito_train[(mosquito_train['LONGITUDE']==long)&\n",
    "                                                             (mosquito_train['LATITUDE']==lat)]['VD'].shift(1)[row]\n",
    "\n",
    "for long in mosquito_test['LONGITUDE'].unique():\n",
    "    for lat in mosquito_test[mosquito_test['LONGITUDE']==long]['LATITUDE'].unique():\n",
    "        for row in mosquito_test[(mosquito_test['LONGITUDE']==long)&(mosquito_test['LATITUDE']==lat)].index:\n",
    "            mosquito_test.loc[row, 'VD_1'] = mosquito_test[(mosquito_test['LONGITUDE']==long)&\n",
    "                                                             (mosquito_test['LATITUDE']==lat)]['VD'].shift(1)[row]"
   ]
  },
  {
   "cell_type": "code",
   "execution_count": 66,
   "metadata": {},
   "outputs": [],
   "source": [
    "# If there is no lag data for a trap, use the average vector distance of the prior week otherwise fill with a 0\n",
    "for row in mosquito_train[mosquito_train['VD_1'].isna()].index:\n",
    "    date = mosquito_train.loc[row, 'TEST DATE']\n",
    "    mosquito_train.loc[row, 'VD_1'] = mosquito_train.groupby('TEST DATE').mean().shift(7)['VD'][date]\n",
    "mosquito_train['VD_1'].fillna(0, inplace=True)\n",
    "\n",
    "for row in mosquito_test[mosquito_test['VD_1'].isna()].index:\n",
    "    date = mosquito_test.loc[row, 'TEST DATE']\n",
    "    mosquito_test.loc[row, 'VD_1'] = mosquito_test.groupby('TEST DATE').mean().shift(7)['VD'][date]\n",
    "mosquito_test['VD_1'].fillna(0, inplace=True)"
   ]
  },
  {
   "cell_type": "markdown",
   "metadata": {},
   "source": [
    "# Exporting Data"
   ]
  },
  {
   "cell_type": "code",
   "execution_count": 69,
   "metadata": {},
   "outputs": [],
   "source": [
    "# Commented out so it will not be accidentally done\n",
    "weather_train.to_csv('./assets/weather_train')\n",
    "weather_test.to_csv('./assets/weather_test')\n",
    "mosquito_train.to_csv('./assets/mosquito_train')\n",
    "mosquito_test.to_csv('./assets/mosquito_test')"
   ]
  }
 ],
 "metadata": {
  "kernelspec": {
   "display_name": "Python [conda env:dsi]",
   "language": "python",
   "name": "conda-env-dsi-py"
  },
  "language_info": {
   "codemirror_mode": {
    "name": "ipython",
    "version": 3
   },
   "file_extension": ".py",
   "mimetype": "text/x-python",
   "name": "python",
   "nbconvert_exporter": "python",
   "pygments_lexer": "ipython3",
   "version": "3.6.5"
  }
 },
 "nbformat": 4,
 "nbformat_minor": 2
}
