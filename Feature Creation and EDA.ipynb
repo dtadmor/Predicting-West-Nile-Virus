{
 "cells": [
  {
   "cell_type": "markdown",
   "metadata": {},
   "source": [
    "# Importing Libraries and Data"
   ]
  },
  {
   "cell_type": "code",
   "execution_count": 110,
   "metadata": {},
   "outputs": [],
   "source": [
    "import pandas as pd\n",
    "import matplotlib.pyplot as plt\n",
    "import seaborn as sns\n",
    "from collections import defaultdict\n",
    "import numpy as np\n",
    "import matplotlib.pyplot as plt"
   ]
  },
  {
   "cell_type": "code",
   "execution_count": 319,
   "metadata": {},
   "outputs": [],
   "source": [
    "weather = pd.read_csv('./weather_data', index_col=0)\n",
    "trap = pd.read_csv('./mosquito_data', index_col=0)\n",
    "test = pd.read_csv('./test_data', index_col=0)\n",
    "yearly_weather = pd.read_csv('./yearly_weather_data')"
   ]
  },
  {
   "cell_type": "code",
   "execution_count": 320,
   "metadata": {},
   "outputs": [],
   "source": [
    "# Converting the dates back into datetime \n",
    "weather.index = pd.DatetimeIndex(weather.index)\n",
    "trap['Date'] = pd.to_datetime(trap['Date'])\n",
    "test['Date'] = pd.to_datetime(test['Date'])"
   ]
  },
  {
   "cell_type": "markdown",
   "metadata": {},
   "source": [
    "# Chunking the Data\n",
    "### Grouping the data into areas\n",
    "#### Creating the evenly sized groups"
   ]
  },
  {
   "cell_type": "code",
   "execution_count": 321,
   "metadata": {},
   "outputs": [],
   "source": [
    "# Determining the boundaries of the space\n",
    "long_max = trap['Longitude'].max() \n",
    "long_min = trap['Longitude'].min()\n",
    "lat_max = trap['Latitude'].max()\n",
    "lat_min = trap['Latitude'].min()\n",
    "long_boundaries = np.linspace(long_min, long_max + .000001, 7)\n",
    "lat_boundaries = np.linspace(lat_min, lat_max + .000001, 7)"
   ]
  },
  {
   "cell_type": "code",
   "execution_count": 322,
   "metadata": {},
   "outputs": [],
   "source": [
    "# Identifying the area of each trap\n",
    "i = 0\n",
    "for long_0, long_1 in zip(long_boundaries, long_boundaries[1:]):\n",
    "    for lat_0, lat_1 in zip(lat_boundaries, lat_boundaries[1:]):\n",
    "        \n",
    "        i += 1\n",
    "        \n",
    "        for row in trap.index:\n",
    "            if (long_0 <= trap.loc[row, 'Longitude'] < long_1) & (lat_0 <= trap.loc[row, 'Latitude'] < lat_1):\n",
    "                trap.loc[row, 'Area'] = i\n",
    "#             else:\n",
    "#                 trap.loc[row, 'Area_' + str(i)] = 0      "
   ]
  },
  {
   "cell_type": "markdown",
   "metadata": {},
   "source": [
    "#### Observing the areas"
   ]
  },
  {
   "cell_type": "code",
   "execution_count": 323,
   "metadata": {},
   "outputs": [
    {
     "data": {
      "image/png": "[encoded data removed]",
      "text/plain": [
       "<Figure size 432x288 with 1 Axes>"
      ]
     },
     "metadata": {},
     "output_type": "display_data"
    }
   ],
   "source": [
    "# Graphing to see how the areas ended up\n",
    "plt.scatter(trap['Longitude'], trap['Latitude'])\n",
    "for long in long_boundaries:\n",
    "    plt.plot([long]*len(lat_boundaries), lat_boundaries, color='orange')\n",
    "for lat in lat_boundaries:\n",
    "    plt.plot(long_boundaries, [lat]*len(long_boundaries), color='orange');"
   ]
  },
  {
   "cell_type": "markdown",
   "metadata": {},
   "source": [
    "#### Combining the area data"
   ]
  },
  {
   "cell_type": "code",
   "execution_count": 7,
   "metadata": {},
   "outputs": [],
   "source": [
    "# Grouping and saving the trap data\n",
    "# trap = trap.groupby(['Date', 'Area'], as_index=False).sum()"
   ]
  },
  {
   "cell_type": "markdown",
   "metadata": {},
   "source": [
    "### Grouping into Weeks"
   ]
  },
  {
   "cell_type": "code",
   "execution_count": null,
   "metadata": {},
   "outputs": [],
   "source": [
    "# # Grouping the trap data into weekly data\n",
    "# trap = trap.groupby([pd.Grouper(key=('Date'), freq='7d'), 'Area']).sum()\n",
    "# trap.reset_index(inplace=True)"
   ]
  },
  {
   "cell_type": "code",
   "execution_count": null,
   "metadata": {},
   "outputs": [],
   "source": [
    "# # Grouping the weather data into weekly data\n",
    "# weather = weather.resample('7d').mean()"
   ]
  },
  {
   "cell_type": "markdown",
   "metadata": {},
   "source": [
    "# Creating Generalized Features"
   ]
  },
  {
   "cell_type": "code",
   "execution_count": 324,
   "metadata": {},
   "outputs": [],
   "source": [
    "# Creating a degree week feature that measures how far above 71.6 degrees the week was\n",
    "weather['DW'] = weather['Tavg'].map(lambda x: x - 71.6 if x > 71.6 else 0)"
   ]
  },
  {
   "cell_type": "code",
   "execution_count": 325,
   "metadata": {},
   "outputs": [],
   "source": [
    "# Creating a rolling precipitation feature\n",
    "weather['Precip_r3'] = weather['PrecipTotal'].rolling(3, min_periods=1).mean()"
   ]
  },
  {
   "cell_type": "code",
   "execution_count": 326,
   "metadata": {},
   "outputs": [],
   "source": [
    "# Creating spring precipitation feature\n",
    "for year in weather.index.year.unique():\n",
    "    weather.loc[str(year), 'Precip_may'] = weather.loc[str(year) + '-05', 'PrecipTotal'].mean()"
   ]
  },
  {
   "cell_type": "code",
   "execution_count": 327,
   "metadata": {},
   "outputs": [],
   "source": [
    "# Creating a vector index feature\n",
    "Pipiens_VI = trap['Num_Pipiens'] * trap['WNV_Pipiens']\n",
    "Restuans_VI = trap['Num_Restuans'] * trap['WNV_Restuans']\n",
    "trap['VI'] = Pipiens_VI + Restuans_VI"
   ]
  },
  {
   "cell_type": "code",
   "execution_count": 328,
   "metadata": {},
   "outputs": [],
   "source": [
    "# Creating distance weights\n",
    "for row in trap.index:\n",
    "    \n",
    "    # Update these features for the observation\n",
    "    long = trap.loc[row, 'Longitude']\n",
    "    lat = trap.loc[row, 'Latitude']\n",
    "    date = trap.loc[row, 'Date']\n",
    "    trap.loc[row, 'Vector_Distance'] = 0\n",
    "    \n",
    "    for row_2 in trap[trap['Date']==date].drop(row).index:\n",
    "        \n",
    "        # Calculate the inverse distances with other row and multiply them by their VI\n",
    "        long_dist = abs(long - trap.loc[row_2, 'Longitude'])\n",
    "        lat_dist = abs(lat - trap.loc[row_2, 'Latitude'])\n",
    "        distance = ((long_dist ** 2) + (lat_dist ** 2)) ** .5\n",
    "        vector_distance = (1.0 / distance) * trap.loc[row_2, 'VI']\n",
    "        trap.loc[row, 'Vector_Distance'] += vector_distance"
   ]
  },
  {
   "cell_type": "code",
   "execution_count": 375,
   "metadata": {
    "scrolled": true
   },
   "outputs": [],
   "source": [
    "# Adding the previous year's precipitation\n",
    "for year in range(2007, 2014):\n",
    "    for date in trap['Date'].unique():\n",
    "        if date in pd.DatetimeIndex(start=str(year), end=str(year + 1), freq='d'):\n",
    "            for row in trap[trap['Date']==date].index:\n",
    "                trap.loc[row, 'Precip_last_year'] = yearly_weather[yearly_weather['DATE']==year-1]['PRCP'].values[0]"
   ]
  },
  {
   "cell_type": "code",
   "execution_count": 452,
   "metadata": {},
   "outputs": [],
   "source": [
    "for year in range(2007, 2015):\n",
    "    for date in test['Date'].unique():\n",
    "        if date in pd.DatetimeIndex(start=str(year), end=str(year + 1), freq='d'):\n",
    "            for row in test[test['Date']==date].index:\n",
    "                test.loc[row, 'Precip_last_year'] = yearly_weather[yearly_weather['DATE']==year-1]['PRCP'].values[0]"
   ]
  },
  {
   "cell_type": "markdown",
   "metadata": {},
   "source": [
    "# Create 1 week rolling features for many lags"
   ]
  },
  {
   "cell_type": "code",
   "execution_count": 377,
   "metadata": {},
   "outputs": [],
   "source": [
    "# 1 week rolling degree weeks for the last 6 weeks\n",
    "for i in range(1,6):\n",
    "    weather['DW_' + str(i)] = weather['DW'].shift(i*7).rolling(7, min_periods=1).mean()\n",
    "    weather['DW_' + str(i)].fillna(0, inplace=True)"
   ]
  },
  {
   "cell_type": "code",
   "execution_count": 378,
   "metadata": {},
   "outputs": [],
   "source": [
    "# 1 week rolling precipitation for the last 6 weeks\n",
    "for i in range(1,6):\n",
    "    weather['Precip_' + str(i)] = weather['PrecipTotal'].shift(i*7).rolling(7, min_periods=1).mean()\n",
    "    weather['Precip_' + str(i)].fillna(0, inplace=True)"
   ]
  },
  {
   "cell_type": "code",
   "execution_count": 379,
   "metadata": {},
   "outputs": [],
   "source": [
    "# Creating a lag for the last trap data for the VI\n",
    "for trap_number in trap['Trap'].unique():\n",
    "    for row in trap[trap['Trap']==trap_number].index:\n",
    "        trap.loc[row, 'VI_1'] = trap[trap['Trap']==trap_number]['VI'].shift(1)[row]\n",
    "for row in trap[trap['VI_1'].isna()].index:\n",
    "    date = trap.loc[row, 'Date']\n",
    "    trap.loc[row, 'VI_1'] = trap.groupby('Date').mean().shift(1)['VI'][date]\n",
    "trap['VI_1'].fillna(0, inplace=True)"
   ]
  },
  {
   "cell_type": "code",
   "execution_count": 380,
   "metadata": {},
   "outputs": [],
   "source": [
    "# Creating a lag of the last trap data for the Vector Distance\n",
    "for trap_number in trap['Trap'].unique():\n",
    "    for row in trap[trap['Trap']==trap_number].index:\n",
    "        trap.loc[row, 'Vector_Distance_1'] = trap[trap['Trap']==trap_number]['Vector_Distance'].shift(1)[row]\n",
    "for row in trap[trap['Vector_Distance_1'].isna()].index:\n",
    "    date = trap.loc[row, 'Date']\n",
    "    trap.loc[row, 'Vector_Distance_1'] = trap.groupby('Date').mean().shift(1)['Vector_Distance'][date]\n",
    "trap['Vector_Distance_1'].fillna(0, inplace=True)"
   ]
  },
  {
   "cell_type": "code",
   "execution_count": 172,
   "metadata": {},
   "outputs": [],
   "source": [
    "# pd.merge(trap, trap.groupby([pd.Grouper(key='Date', freq='7d'), 'Area']).sum().reset_index()[['Date', 'VI']], left_on='Date', right_on='Date', how='left').shape"
   ]
  },
  {
   "cell_type": "markdown",
   "metadata": {},
   "source": [
    "# Creating Weekly Forecast Features"
   ]
  },
  {
   "cell_type": "code",
   "execution_count": null,
   "metadata": {},
   "outputs": [],
   "source": [
    "# Creating DW with a 3 week lag\n",
    "weather['DW_l1'] = weather['DW'].shift(1)"
   ]
  },
  {
   "cell_type": "code",
   "execution_count": null,
   "metadata": {},
   "outputs": [],
   "source": [
    "# Creating a precipitation feature with a 3 week lag\n",
    "weather['Precip_r3_l1'] = weather['Precip_r3'].shift(1)"
   ]
  },
  {
   "cell_type": "code",
   "execution_count": null,
   "metadata": {},
   "outputs": [],
   "source": [
    "# Creating a rolling 2 week VI with a 3 week lag\n",
    "trap['VI_l1'] = trap['VI'].shift(1)\n",
    "trap.fillna(0, inplace=True)"
   ]
  },
  {
   "cell_type": "code",
   "execution_count": null,
   "metadata": {},
   "outputs": [],
   "source": [
    "# Creating a rolling vector distance with a 2 week lag\n",
    "trap['Vector_Distance_l1'] = trap['Vector_Distance'].shift(1)\n",
    "trap['Vector_Distance_l1'].fillna(0, inplace=True)"
   ]
  },
  {
   "cell_type": "code",
   "execution_count": null,
   "metadata": {},
   "outputs": [],
   "source": [
    "import matplotlib.pyplot as plt"
   ]
  },
  {
   "cell_type": "code",
   "execution_count": null,
   "metadata": {},
   "outputs": [],
   "source": [
    "trap['Vector_Distance_l1'].describe()"
   ]
  },
  {
   "cell_type": "code",
   "execution_count": null,
   "metadata": {},
   "outputs": [],
   "source": [
    "plt.scatter(trap['Vector_Distance_l1'], trap['WnvPresent'])"
   ]
  },
  {
   "cell_type": "code",
   "execution_count": null,
   "metadata": {},
   "outputs": [],
   "source": [
    "trap[trap['WnvPresent']==11]"
   ]
  },
  {
   "cell_type": "code",
   "execution_count": null,
   "metadata": {},
   "outputs": [],
   "source": [
    "trap[trap['Date']=='2007-08-14']"
   ]
  },
  {
   "cell_type": "markdown",
   "metadata": {},
   "source": [
    "# Creating Early Forecast Features"
   ]
  },
  {
   "cell_type": "markdown",
   "metadata": {},
   "source": [
    "# Creating Post Spray Forecast Features"
   ]
  },
  {
   "cell_type": "markdown",
   "metadata": {},
   "source": [
    "# Preparing Merged Data Frame"
   ]
  },
  {
   "cell_type": "code",
   "execution_count": 381,
   "metadata": {},
   "outputs": [],
   "source": [
    "# Merging the data and using the date as the index\n",
    "df = pd.merge(trap, weather, left_on='Date', right_on='Date', how='left')\n",
    "df.set_index('Date', inplace=True)\n",
    "df_test = pd.merge(test, weather, left_on='Date', right_on='Date', how='left')\n",
    "df_test.set_index('Date', inplace=True)"
   ]
  },
  {
   "cell_type": "code",
   "execution_count": 382,
   "metadata": {},
   "outputs": [],
   "source": [
    "# Fixing the WnvPresent column to be 1 if present and 0 if not\n",
    "df['WnvPresent'] = df['WnvPresent'].map(lambda x: 1 if x >= 1 else 0)"
   ]
  },
  {
   "cell_type": "markdown",
   "metadata": {},
   "source": [
    "# Basic Model"
   ]
  },
  {
   "cell_type": "code",
   "execution_count": 1,
   "metadata": {},
   "outputs": [],
   "source": [
    "from sklearn.ensemble import RandomForestRegressor, RandomForestClassifier, AdaBoostClassifier\n",
    "from sklearn.linear_model import LogisticRegression\n",
    "from sklearn.model_selection import cross_val_score, train_test_split\n",
    "from sklearn.preprocessing import StandardScaler\n",
    "from sklearn.svm import SVR, SVC\n",
    "from sklearn.metrics import confusion_matrix\n",
    "from imblearn.over_sampling import RandomOverSampler"
   ]
  },
  {
   "cell_type": "markdown",
   "metadata": {},
   "source": [
    "##### Creating an X and y"
   ]
  },
  {
   "cell_type": "code",
   "execution_count": 408,
   "metadata": {
    "scrolled": true
   },
   "outputs": [],
   "source": [
    "model_features = ['DW_1', 'DW_2', 'DW_3', 'DW_4', 'DW_5', 'Precip_1', 'Precip_2', 'Precip_3', 'Precip_4',\n",
    "                  'Precip_5', 'Precip_may', 'Longitude', 'Latitude', 'VI_1', 'Vector_Distance_1', 'Precip_last_year']\n",
    "X_train = df.loc['2007':'2011', model_features]\n",
    "# X_train = pd.get_dummies(X_train, columns=['Area'])\n",
    "y_train = df.loc['2007':'2011', 'WnvPresent']\n",
    "X_test = df.loc['2013', model_features]\n",
    "# X_test = pd.get_dummies(X_test, columns=['Area'])\n",
    "y_test = df.loc['2013', 'WnvPresent']"
   ]
  },
  {
   "cell_type": "code",
   "execution_count": 434,
   "metadata": {},
   "outputs": [],
   "source": [
    "model_features = ['DW_1', 'DW_2', 'DW_3', 'DW_4', 'DW_5', 'Precip_1', 'Precip_2', 'Precip_3', 'Precip_4',\n",
    "                  'Precip_5', 'Precip_may', 'Longitude', 'Latitude', 'Precip_last_year']\n",
    "X_train, X_test, y_train, y_test = train_test_split(df[model_features], df['WnvPresent'], stratify=df['WnvPresent'])\n",
    "# X_train = pd.get_dummies(X_train, columns=['Area'])\n",
    "# X_test = pd.get_dummies(X_test, columns=['Area'])"
   ]
  },
  {
   "cell_type": "code",
   "execution_count": 435,
   "metadata": {},
   "outputs": [],
   "source": [
    "for column in X_train.columns:\n",
    "    if column not in X_test.columns:\n",
    "        X_test[column] = 0"
   ]
  },
  {
   "cell_type": "code",
   "execution_count": 436,
   "metadata": {},
   "outputs": [],
   "source": [
    "ros = RandomOverSampler(random_state=42)\n",
    "X_resampled, y_resampled = ros.fit_sample(X_train, y_train)"
   ]
  },
  {
   "cell_type": "code",
   "execution_count": 437,
   "metadata": {},
   "outputs": [
    {
     "name": "stderr",
     "output_type": "stream",
     "text": [
      "[Parallel(n_jobs=1)]: Done   5 out of   5 | elapsed:    1.4s finished\n"
     ]
    },
    {
     "data": {
      "text/plain": [
       "array([0.7955626 , 0.83122029, 0.82646593, 0.82063492, 0.81428571])"
      ]
     },
     "execution_count": 437,
     "metadata": {},
     "output_type": "execute_result"
    }
   ],
   "source": [
    "model = AdaBoostClassifier(n_estimators=100, learning_rate=1)\n",
    "cross_val_score(model, X_resampled, y_resampled, cv=5, verbose=1)"
   ]
  },
  {
   "cell_type": "code",
   "execution_count": 438,
   "metadata": {},
   "outputs": [],
   "source": [
    "model.fit(X_resampled, y_resampled);"
   ]
  },
  {
   "cell_type": "code",
   "execution_count": 439,
   "metadata": {},
   "outputs": [
    {
     "data": {
      "text/html": [
       "<div>\n",
       "<style scoped>\n",
       "    .dataframe tbody tr th:only-of-type {\n",
       "        vertical-align: middle;\n",
       "    }\n",
       "\n",
       "    .dataframe tbody tr th {\n",
       "        vertical-align: top;\n",
       "    }\n",
       "\n",
       "    .dataframe thead th {\n",
       "        text-align: right;\n",
       "    }\n",
       "</style>\n",
       "<table border=\"1\" class=\"dataframe\">\n",
       "  <thead>\n",
       "    <tr style=\"text-align: right;\">\n",
       "      <th></th>\n",
       "      <th>DW_1</th>\n",
       "      <th>DW_2</th>\n",
       "      <th>DW_3</th>\n",
       "      <th>DW_4</th>\n",
       "      <th>DW_5</th>\n",
       "      <th>Precip_1</th>\n",
       "      <th>Precip_2</th>\n",
       "      <th>Precip_3</th>\n",
       "      <th>Precip_4</th>\n",
       "      <th>Precip_5</th>\n",
       "      <th>Precip_may</th>\n",
       "      <th>Longitude</th>\n",
       "      <th>Latitude</th>\n",
       "      <th>Precip_last_year</th>\n",
       "    </tr>\n",
       "  </thead>\n",
       "  <tbody>\n",
       "    <tr>\n",
       "      <th>Importance</th>\n",
       "      <td>0.04</td>\n",
       "      <td>0.01</td>\n",
       "      <td>0.02</td>\n",
       "      <td>0.08</td>\n",
       "      <td>0.07</td>\n",
       "      <td>0.08</td>\n",
       "      <td>0.05</td>\n",
       "      <td>0.09</td>\n",
       "      <td>0.05</td>\n",
       "      <td>0.07</td>\n",
       "      <td>0.01</td>\n",
       "      <td>0.2</td>\n",
       "      <td>0.21</td>\n",
       "      <td>0.02</td>\n",
       "    </tr>\n",
       "  </tbody>\n",
       "</table>\n",
       "</div>"
      ],
      "text/plain": [
       "            DW_1  DW_2  DW_3  DW_4  DW_5  Precip_1  Precip_2  Precip_3  \\\n",
       "Importance  0.04  0.01  0.02  0.08  0.07      0.08      0.05      0.09   \n",
       "\n",
       "            Precip_4  Precip_5  Precip_may  Longitude  Latitude  \\\n",
       "Importance      0.05      0.07        0.01        0.2      0.21   \n",
       "\n",
       "            Precip_last_year  \n",
       "Importance              0.02  "
      ]
     },
     "execution_count": 439,
     "metadata": {},
     "output_type": "execute_result"
    }
   ],
   "source": [
    "pd.DataFrame([model.feature_importances_], columns=X_train.columns, index=['Importance'])"
   ]
  },
  {
   "cell_type": "code",
   "execution_count": 440,
   "metadata": {},
   "outputs": [
    {
     "data": {
      "text/plain": [
       "0    2437\n",
       "1    1005\n",
       "dtype: int64"
      ]
     },
     "execution_count": 440,
     "metadata": {},
     "output_type": "execute_result"
    }
   ],
   "source": [
    "pd.Series(model.predict(X_train)).value_counts()"
   ]
  },
  {
   "cell_type": "code",
   "execution_count": 441,
   "metadata": {},
   "outputs": [
    {
     "data": {
      "text/plain": [
       "0    812\n",
       "1    336\n",
       "Name: 0, dtype: int64"
      ]
     },
     "execution_count": 441,
     "metadata": {},
     "output_type": "execute_result"
    }
   ],
   "source": [
    "pd.DataFrame(model.predict(X_test))[0].value_counts()"
   ]
  },
  {
   "cell_type": "code",
   "execution_count": 442,
   "metadata": {
    "scrolled": true
   },
   "outputs": [
    {
     "data": {
      "text/plain": [
       "(0.7560975609756098, 0.9163763066202091)"
      ]
     },
     "execution_count": 442,
     "metadata": {},
     "output_type": "execute_result"
    }
   ],
   "source": [
    "model.score(X_test, y_test), 1 - y_test.mean()"
   ]
  },
  {
   "cell_type": "code",
   "execution_count": 443,
   "metadata": {
    "scrolled": true
   },
   "outputs": [
    {
     "data": {
      "text/html": [
       "<div>\n",
       "<style scoped>\n",
       "    .dataframe tbody tr th:only-of-type {\n",
       "        vertical-align: middle;\n",
       "    }\n",
       "\n",
       "    .dataframe tbody tr th {\n",
       "        vertical-align: top;\n",
       "    }\n",
       "\n",
       "    .dataframe thead th {\n",
       "        text-align: right;\n",
       "    }\n",
       "</style>\n",
       "<table border=\"1\" class=\"dataframe\">\n",
       "  <thead>\n",
       "    <tr style=\"text-align: right;\">\n",
       "      <th></th>\n",
       "      <th>Predicted Negative</th>\n",
       "      <th>Predicted Positive</th>\n",
       "    </tr>\n",
       "  </thead>\n",
       "  <tbody>\n",
       "    <tr>\n",
       "      <th>True Negatve</th>\n",
       "      <td>792</td>\n",
       "      <td>260</td>\n",
       "    </tr>\n",
       "    <tr>\n",
       "      <th>True Positive</th>\n",
       "      <td>20</td>\n",
       "      <td>76</td>\n",
       "    </tr>\n",
       "  </tbody>\n",
       "</table>\n",
       "</div>"
      ],
      "text/plain": [
       "               Predicted Negative  Predicted Positive\n",
       "True Negatve                  792                 260\n",
       "True Positive                  20                  76"
      ]
     },
     "execution_count": 443,
     "metadata": {},
     "output_type": "execute_result"
    }
   ],
   "source": [
    "y_hat = model.predict(X_test)\n",
    "pd.DataFrame(confusion_matrix(y_test, y_hat), columns=['Predicted Negative', 'Predicted Positive'],\n",
    "             index=['True Negatve', 'True Positive'])"
   ]
  },
  {
   "cell_type": "code",
   "execution_count": 418,
   "metadata": {},
   "outputs": [
    {
     "data": {
      "image/png": "[encoded data removed]",
      "text/plain": [
       "<Figure size 432x288 with 1 Axes>"
      ]
     },
     "metadata": {},
     "output_type": "display_data"
    }
   ],
   "source": [
    "plt.scatter(trap['Longitude'], trap['Latitude'], color='red')\n",
    "plt.scatter(X_test[y_test==1].loc['2013', 'Longitude'], X_test[y_test==1].loc['2013', 'Latitude']);"
   ]
  },
  {
   "cell_type": "code",
   "execution_count": 458,
   "metadata": {},
   "outputs": [],
   "source": [
    "y_test_hat = model.predict(df_test[model_features])"
   ]
  },
  {
   "cell_type": "code",
   "execution_count": 472,
   "metadata": {},
   "outputs": [
    {
     "data": {
      "text/plain": [
       "0.15735099337748346"
      ]
     },
     "execution_count": 472,
     "metadata": {},
     "output_type": "execute_result"
    }
   ],
   "source": [
    "model.predict(df_test.loc['2008', model_features]).mean()"
   ]
  },
  {
   "cell_type": "code",
   "execution_count": 473,
   "metadata": {},
   "outputs": [
    {
     "data": {
      "text/plain": [
       "0.2507726269315673"
      ]
     },
     "execution_count": 473,
     "metadata": {},
     "output_type": "execute_result"
    }
   ],
   "source": [
    "model.predict(df_test.loc['2010', model_features]).mean()"
   ]
  },
  {
   "cell_type": "code",
   "execution_count": 474,
   "metadata": {},
   "outputs": [
    {
     "data": {
      "text/plain": [
       "0.2980132450331126"
      ]
     },
     "execution_count": 474,
     "metadata": {},
     "output_type": "execute_result"
    }
   ],
   "source": [
    "model.predict(df_test.loc['2012', model_features]).mean()"
   ]
  },
  {
   "cell_type": "code",
   "execution_count": 475,
   "metadata": {},
   "outputs": [
    {
     "data": {
      "text/plain": [
       "0.08204562178072111"
      ]
     },
     "execution_count": 475,
     "metadata": {},
     "output_type": "execute_result"
    }
   ],
   "source": [
    "model.predict(df_test.loc['2014', model_features]).mean()"
   ]
  },
  {
   "cell_type": "code",
   "execution_count": 469,
   "metadata": {},
   "outputs": [
    {
     "data": {
      "image/png": "[encoded data removed]",
      "text/plain": [
       "<Figure size 432x288 with 1 Axes>"
      ]
     },
     "metadata": {},
     "output_type": "display_data"
    }
   ],
   "source": [
    "plt.scatter(df_test[y_test_hat==1].loc['2008', 'Longitude'], df_test[y_test_hat==1].loc['2008', 'Latitude']);"
   ]
  },
  {
   "cell_type": "code",
   "execution_count": null,
   "metadata": {},
   "outputs": [],
   "source": []
  },
  {
   "cell_type": "code",
   "execution_count": null,
   "metadata": {},
   "outputs": [],
   "source": []
  },
  {
   "cell_type": "code",
   "execution_count": null,
   "metadata": {},
   "outputs": [],
   "source": []
  },
  {
   "cell_type": "code",
   "execution_count": null,
   "metadata": {},
   "outputs": [],
   "source": []
  },
  {
   "cell_type": "code",
   "execution_count": null,
   "metadata": {},
   "outputs": [],
   "source": []
  },
  {
   "cell_type": "code",
   "execution_count": null,
   "metadata": {},
   "outputs": [],
   "source": []
  },
  {
   "cell_type": "code",
   "execution_count": null,
   "metadata": {},
   "outputs": [],
   "source": [
    "plt.scatter(df['VI'], df['VI_r1_l1'])"
   ]
  },
  {
   "cell_type": "code",
   "execution_count": null,
   "metadata": {},
   "outputs": [],
   "source": []
  },
  {
   "cell_type": "code",
   "execution_count": null,
   "metadata": {},
   "outputs": [],
   "source": []
  },
  {
   "cell_type": "code",
   "execution_count": null,
   "metadata": {},
   "outputs": [],
   "source": []
  },
  {
   "cell_type": "code",
   "execution_count": null,
   "metadata": {},
   "outputs": [],
   "source": []
  },
  {
   "cell_type": "code",
   "execution_count": null,
   "metadata": {},
   "outputs": [],
   "source": []
  },
  {
   "cell_type": "code",
   "execution_count": null,
   "metadata": {},
   "outputs": [],
   "source": [
    "df['WnvPresent'].value_counts()"
   ]
  },
  {
   "cell_type": "code",
   "execution_count": null,
   "metadata": {
    "scrolled": true
   },
   "outputs": [],
   "source": [
    "df[(df['WnvPresent']==0)]['2013'].shape[0]/df['2013'].shape[0]"
   ]
  },
  {
   "cell_type": "code",
   "execution_count": null,
   "metadata": {},
   "outputs": [],
   "source": [
    "df[df['WnvPresent']==1]['2007'].shape[0], df[df['WnvPresent']==1]['2009'].shape[0], df[df['WnvPresent']==1]['2011'].shape[0], df[df['WnvPresent']==1]['2013'].shape[0]"
   ]
  },
  {
   "cell_type": "code",
   "execution_count": null,
   "metadata": {},
   "outputs": [],
   "source": [
    "forest.score(X_train['2007'], y_train['2007'])"
   ]
  },
  {
   "cell_type": "code",
   "execution_count": null,
   "metadata": {},
   "outputs": [],
   "source": [
    "y_test.value_counts()"
   ]
  },
  {
   "cell_type": "code",
   "execution_count": null,
   "metadata": {},
   "outputs": [],
   "source": [
    "y_train.value_counts()"
   ]
  },
  {
   "cell_type": "code",
   "execution_count": null,
   "metadata": {},
   "outputs": [],
   "source": [
    "predicted_df = pd.concat([pd.DataFrame(y_test).reset_index(drop=True), pd.DataFrame(forest.predict_proba(X_test))[1]], axis=1)"
   ]
  },
  {
   "cell_type": "code",
   "execution_count": null,
   "metadata": {},
   "outputs": [],
   "source": [
    "predicted_df[1].mean()"
   ]
  },
  {
   "cell_type": "code",
   "execution_count": null,
   "metadata": {},
   "outputs": [],
   "source": [
    "predicted_df[(predicted_df[1]<.5)&(predicted_df['WnvPresent']==1)]"
   ]
  },
  {
   "cell_type": "code",
   "execution_count": null,
   "metadata": {},
   "outputs": [],
   "source": []
  },
  {
   "cell_type": "code",
   "execution_count": null,
   "metadata": {},
   "outputs": [],
   "source": []
  },
  {
   "cell_type": "code",
   "execution_count": null,
   "metadata": {},
   "outputs": [],
   "source": []
  },
  {
   "cell_type": "code",
   "execution_count": 580,
   "metadata": {},
   "outputs": [],
   "source": [
    "all_the_data = pd.read_csv('./west_nile/input/Chicago_WNV.csv')"
   ]
  },
  {
   "cell_type": "code",
   "execution_count": 581,
   "metadata": {},
   "outputs": [],
   "source": [
    "all_the_data = all_the_data.sort_values(by='TEST ID')"
   ]
  },
  {
   "cell_type": "code",
   "execution_count": 582,
   "metadata": {},
   "outputs": [],
   "source": [
    "all_the_data['RESULT'] = all_the_data['RESULT'].map(lambda x: 0 if x == 'negative' else 1)"
   ]
  },
  {
   "cell_type": "code",
   "execution_count": 583,
   "metadata": {},
   "outputs": [],
   "source": [
    "grouped_data = all_the_data.groupby(['SEASON YEAR', 'WEEK', 'TRAP'], as_index=False).sum()"
   ]
  },
  {
   "cell_type": "code",
   "execution_count": 584,
   "metadata": {},
   "outputs": [
    {
     "name": "stdout",
     "output_type": "stream",
     "text": [
      "2008 0.09979838709677419\n",
      "2010 0.06884057971014493\n",
      "2012 0.38604240282685515\n",
      "2014 0.16536050156739812\n"
     ]
    }
   ],
   "source": [
    "for year in range(2008, 2015, 2):\n",
    "    print(year, grouped_data[grouped_data['SEASON YEAR']==year]['RESULT'].mean())"
   ]
  },
  {
   "cell_type": "code",
   "execution_count": 585,
   "metadata": {},
   "outputs": [
    {
     "data": {
      "text/plain": [
       "0.04723282442748092"
      ]
     },
     "execution_count": 585,
     "metadata": {},
     "output_type": "execute_result"
    }
   ],
   "source": [
    "all_the_data[all_the_data['SEASON YEAR'] == 2008]['RESULT'].mean()"
   ]
  },
  {
   "cell_type": "code",
   "execution_count": 586,
   "metadata": {},
   "outputs": [],
   "source": [
    "all_the_data['TEST DATE'] = pd.to_datetime(all_the_data['TEST DATE'])"
   ]
  },
  {
   "cell_type": "code",
   "execution_count": 607,
   "metadata": {},
   "outputs": [
    {
     "data": {
      "text/plain": [
       "array(['65XX N OAK PARK AVE', '43XX N ASHLAND', '4XX W 127TH',\n",
       "       '81XX S ASHLAND', '79XX S CHICAGO', '30XX S HOYNE',\n",
       "       '98XX S AVENUE G', '115XX S AVENUE L', '100XX W OHARE',\n",
       "       '100XX W OHARE AIRPORT'], dtype=object)"
      ]
     },
     "execution_count": 607,
     "metadata": {},
     "output_type": "execute_result"
    }
   ],
   "source": [
    "all_the_data[all_the_data['LOCATION'].isna()==True]['BLOCK'].unique()"
   ]
  },
  {
   "cell_type": "code",
   "execution_count": 591,
   "metadata": {},
   "outputs": [],
   "source": [
    "# Filling in all of the missing lat and long data using Google Maps\n",
    "for i in all_the_data[all_the_data['BLOCK'] == '65XX N OAK PARK AVE'].index:\n",
    "    all_the_data.loc[i,['LATITUDE', 'LONGITUDE']] = [42.000048, -87.795637]\n",
    "for i in all_the_data[all_the_data['BLOCK'] == '43XX N ASHLAND'].index:\n",
    "    all_the_data.loc[i,['LATITUDE', 'LONGITUDE']] = [41.960938, -87.669239]\n",
    "for i in all_the_data[all_the_data['BLOCK'] == '4XX W 127TH'].index:\n",
    "    all_the_data.loc[i,['LATITUDE', 'LONGITUDE']] = [41.663323, -87.633490]\n",
    "for i in all_the_data[all_the_data['BLOCK'] == '79XX S CHICAGO'].index:\n",
    "    all_the_data.loc[i,['LATITUDE', 'LONGITUDE']] = [41.752418, -87.587062]\n",
    "for i in all_the_data[all_the_data['BLOCK'] == '30XX S HOYNE'].index:\n",
    "    all_the_data.loc[i,['LATITUDE', 'LONGITUDE']] = [41.836610, -87.677720]\n",
    "for i in all_the_data[all_the_data['BLOCK'] == '98XX S AVENUE G'].index:\n",
    "    all_the_data.loc[i,['LATITUDE', 'LONGITUDE']] = [41.717151, -87.531634]\n",
    "for i in all_the_data[all_the_data['BLOCK'] == '115XX S AVENUE L'].index:\n",
    "    all_the_data.loc[i,['LATITUDE', 'LONGITUDE']] = [41.685640, -87.536430]\n",
    "for i in all_the_data[all_the_data['BLOCK'] == '100XX W OHARE'].index:\n",
    "    all_the_data.loc[i,['LATITUDE', 'LONGITUDE']] = [41.977498, -87.881006]\n",
    "for i in all_the_data[all_the_data['BLOCK'] == '100XX W OHARE AIRPORT'].index:\n",
    "    all_the_data.loc[i,['LATITUDE', 'LONGITUDE']] = [41.978969, -87.902679]\n",
    "for i in all_the_data[all_the_data['BLOCK'] == '81XX S ASHLAND'].index:\n",
    "    all_the_data.loc[i,['LATITUDE', 'LONGITUDE']] = [41.745861, -87.663463]"
   ]
  },
  {
   "cell_type": "code",
   "execution_count": 609,
   "metadata": {},
   "outputs": [
    {
     "data": {
      "text/plain": [
       "SEASON YEAR                0\n",
       "WEEK                       0\n",
       "TEST ID                    0\n",
       "BLOCK                      0\n",
       "TRAP                       0\n",
       "TRAP_TYPE                  0\n",
       "TEST DATE                  0\n",
       "NUMBER OF MOSQUITOES       0\n",
       "RESULT                     0\n",
       "SPECIES                    0\n",
       "LATITUDE                   0\n",
       "LONGITUDE                  0\n",
       "LOCATION                4084\n",
       "dtype: int64"
      ]
     },
     "execution_count": 609,
     "metadata": {},
     "output_type": "execute_result"
    }
   ],
   "source": [
    "all_the_data.isna().sum()"
   ]
  },
  {
   "cell_type": "code",
   "execution_count": 612,
   "metadata": {},
   "outputs": [
    {
     "data": {
      "text/plain": [
       "array(['CULEX PIPIENS/RESTUANS', 'CULEX RESTUANS', 'CULEX PIPIENS',\n",
       "       'CULEX SALINARIUS', 'CULEX TERRITANS', 'CULEX TARSALIS',\n",
       "       'UNSPECIFIED CULEX', 'CULEX ERRATICUS'], dtype=object)"
      ]
     },
     "execution_count": 612,
     "metadata": {},
     "output_type": "execute_result"
    }
   ],
   "source": [
    "all_the_data['SPECIES'].unique()"
   ]
  },
  {
   "cell_type": "code",
   "execution_count": null,
   "metadata": {},
   "outputs": [],
   "source": []
  },
  {
   "cell_type": "code",
   "execution_count": null,
   "metadata": {},
   "outputs": [],
   "source": []
  },
  {
   "cell_type": "code",
   "execution_count": 621,
   "metadata": {},
   "outputs": [],
   "source": [
    "weather_0607 = pd.read_csv('./west_nile/input/1473571.csv')\n",
    "weather_0809 = pd.read_csv('./west_nile/input/1473573.csv')\n",
    "weather_1011 = pd.read_csv('./west_nile/input/1473576.csv')\n",
    "weather_1213 = pd.read_csv('./west_nile/input/1473577.csv')\n",
    "weather_1415 = pd.read_csv('./west_nile/input/1473578.csv')\n",
    "weather_1617 = pd.read_csv('./west_nile/input/1473579.csv')\n",
    "weather_18 = pd.read_csv('./west_nile/input/1473580.csv')"
   ]
  },
  {
   "cell_type": "code",
   "execution_count": 637,
   "metadata": {},
   "outputs": [
    {
     "data": {
      "text/plain": [
       "AWND     2\n",
       "PRCP     0\n",
       "TAVG    82\n",
       "TMAX     0\n",
       "TMIN     0\n",
       "dtype: int64"
      ]
     },
     "execution_count": 637,
     "metadata": {},
     "output_type": "execute_result"
    }
   ],
   "source": [
    "weather_18.groupby('DATE').mean().isna().sum()"
   ]
  },
  {
   "cell_type": "code",
   "execution_count": 636,
   "metadata": {},
   "outputs": [
    {
     "data": {
      "text/plain": [
       "AWND    0\n",
       "PRCP    0\n",
       "TAVG    0\n",
       "TMAX    0\n",
       "TMIN    0\n",
       "dtype: int64"
      ]
     },
     "execution_count": 636,
     "metadata": {},
     "output_type": "execute_result"
    }
   ],
   "source": [
    "weather_1617.groupby('DATE').mean().isna().sum()"
   ]
  },
  {
   "cell_type": "code",
   "execution_count": 638,
   "metadata": {},
   "outputs": [
    {
     "data": {
      "text/plain": [
       "AWND    0\n",
       "PRCP    0\n",
       "TAVG    0\n",
       "TMAX    0\n",
       "TMIN    0\n",
       "dtype: int64"
      ]
     },
     "execution_count": 638,
     "metadata": {},
     "output_type": "execute_result"
    }
   ],
   "source": [
    "weather_1415.groupby('DATE').mean().isna().sum()"
   ]
  },
  {
   "cell_type": "code",
   "execution_count": 639,
   "metadata": {},
   "outputs": [
    {
     "data": {
      "text/plain": [
       "AWND      0\n",
       "PRCP      0\n",
       "TAVG    456\n",
       "TMAX      0\n",
       "TMIN      0\n",
       "dtype: int64"
      ]
     },
     "execution_count": 639,
     "metadata": {},
     "output_type": "execute_result"
    }
   ],
   "source": [
    "weather_1213.groupby('DATE').mean().isna().sum()"
   ]
  },
  {
   "cell_type": "code",
   "execution_count": 640,
   "metadata": {},
   "outputs": [
    {
     "data": {
      "text/plain": [
       "AWND      0\n",
       "PRCP      0\n",
       "TAVG    730\n",
       "TMAX      0\n",
       "TMIN      0\n",
       "dtype: int64"
      ]
     },
     "execution_count": 640,
     "metadata": {},
     "output_type": "execute_result"
    }
   ],
   "source": [
    "weather_1011.groupby('DATE').mean().isna().sum()"
   ]
  },
  {
   "cell_type": "code",
   "execution_count": 641,
   "metadata": {
    "scrolled": true
   },
   "outputs": [
    {
     "data": {
      "text/plain": [
       "AWND      0\n",
       "PRCP      0\n",
       "TAVG    731\n",
       "TMAX      0\n",
       "TMIN      0\n",
       "dtype: int64"
      ]
     },
     "execution_count": 641,
     "metadata": {},
     "output_type": "execute_result"
    }
   ],
   "source": [
    "weather_0809.groupby('DATE').mean().isna().sum()"
   ]
  },
  {
   "cell_type": "code",
   "execution_count": 656,
   "metadata": {},
   "outputs": [],
   "source": [
    "weather_0607 = weather_0607.groupby('DATE', as_index=False).mean()\n",
    "weather_0809 = weather_0809.groupby('DATE', as_index=False).mean()\n",
    "weather_1011 = weather_1011.groupby('DATE', as_index=False).mean()\n",
    "weather_1213 = weather_1213.groupby('DATE', as_index=False).mean()\n",
    "weather_1415 = weather_1415.groupby('DATE', as_index=False).mean()\n",
    "weather_1617 = weather_1617.groupby('DATE', as_index=False).mean()\n",
    "weather_18 = weather_18.groupby('DATE', as_index=False).mean()"
   ]
  },
  {
   "cell_type": "code",
   "execution_count": 666,
   "metadata": {},
   "outputs": [],
   "source": [
    "all_weather = pd.concat([weather_0607, weather_0809, weather_1011, weather_1213, weather_1415, weather_1617, weather_18])\n",
    "all_weather.reset_index(drop=True, inplace=True)"
   ]
  },
  {
   "cell_type": "code",
   "execution_count": 671,
   "metadata": {},
   "outputs": [],
   "source": [
    "for i in all_weather[all_weather['TAVG'].isna()].index:\n",
    "    all_weather.loc[i, 'TAVG'] = all_weather.loc[i, ['TMAX', 'TMIN']].sum()/2"
   ]
  },
  {
   "cell_type": "code",
   "execution_count": 684,
   "metadata": {},
   "outputs": [],
   "source": [
    "# Correcting winding speed data using weather.gov\n",
    "all_weather.loc[all_weather[all_weather['DATE']=='2018-09-18'].index, 'AWND'] = 8.3\n",
    "all_weather.loc[all_weather[all_weather['DATE']=='2018-09-17'].index, 'AWND'] = 3.3"
   ]
  },
  {
   "cell_type": "code",
   "execution_count": 687,
   "metadata": {},
   "outputs": [
    {
     "data": {
      "text/plain": [
       "(4644, 6)"
      ]
     },
     "execution_count": 687,
     "metadata": {},
     "output_type": "execute_result"
    }
   ],
   "source": [
    "all_weather.shape"
   ]
  },
  {
   "cell_type": "code",
   "execution_count": null,
   "metadata": {},
   "outputs": [],
   "source": [
    "all_the_data.set_index('TEST DATE', inplace=True)"
   ]
  }
 ],
 "metadata": {
  "kernelspec": {
   "display_name": "Python [conda env:dsi]",
   "language": "python",
   "name": "conda-env-dsi-py"
  },
  "language_info": {
   "codemirror_mode": {
    "name": "ipython",
    "version": 3
   },
   "file_extension": ".py",
   "mimetype": "text/x-python",
   "name": "python",
   "nbconvert_exporter": "python",
   "pygments_lexer": "ipython3",
   "version": "3.6.5"
  }
 },
 "nbformat": 4,
 "nbformat_minor": 2
}
